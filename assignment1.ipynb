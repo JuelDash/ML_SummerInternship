{
 "cells": [
  {
   "cell_type": "markdown",
   "id": "b8deff8e",
   "metadata": {},
   "source": [
    "1. Print numbers from 1 to 10"
   ]
  },
  {
   "cell_type": "code",
   "execution_count": null,
   "id": "e46a7ac6",
   "metadata": {},
   "outputs": [
    {
     "name": "stdout",
     "output_type": "stream",
     "text": [
      "1\n",
      "2\n",
      "3\n",
      "4\n",
      "5\n",
      "6\n",
      "7\n",
      "8\n",
      "9\n",
      "10\n"
     ]
    }
   ],
   "source": [
    "for i in range(1, 11):\n",
    "    print(i)"
   ]
  },
  {
   "cell_type": "markdown",
   "id": "7bc4a0e4",
   "metadata": {},
   "source": [
    "2. Print even numbers from 1 to 20"
   ]
  },
  {
   "cell_type": "code",
   "execution_count": null,
   "id": "5d18064d",
   "metadata": {},
   "outputs": [
    {
     "name": "stdout",
     "output_type": "stream",
     "text": [
      "2\n",
      "4\n",
      "6\n",
      "8\n",
      "10\n",
      "12\n",
      "14\n",
      "16\n",
      "18\n",
      "20\n"
     ]
    }
   ],
   "source": [
    "for i in range(1, 21):\n",
    "    if i % 2 == 0:\n",
    "        print(i)"
   ]
  },
  {
   "cell_type": "markdown",
   "id": "510deac2",
   "metadata": {},
   "source": [
    "3. Check if a number is positive, negative or zero"
   ]
  },
  {
   "cell_type": "code",
   "execution_count": null,
   "id": "9cbab4f9",
   "metadata": {},
   "outputs": [
    {
     "name": "stdout",
     "output_type": "stream",
     "text": [
      "0 is zero\n"
     ]
    }
   ],
   "source": [
    "number = int(input(\"Enter a number: \"))\n",
    "if number > 0:\n",
    "    print(number, \"is positive\")\n",
    "elif number < 0:\n",
    "    print(number, \"is negative\")\n",
    "else:\n",
    "    print(number, \"is zero\")"
   ]
  },
  {
   "cell_type": "markdown",
   "id": "14642a46",
   "metadata": {},
   "source": [
    "4. Add two numbers using operators"
   ]
  },
  {
   "cell_type": "code",
   "execution_count": null,
   "id": "6caa1a54",
   "metadata": {},
   "outputs": [
    {
     "name": "stdout",
     "output_type": "stream",
     "text": [
      "The sum of 9 and 7 is 16\n"
     ]
    }
   ],
   "source": [
    "a = int(input(\"Enter first number: \"))\n",
    "b = int(input(\"Enter second number: \"))\n",
    "sum = a + b\n",
    "print(\"The sum of\", a, \"and\", b, \"is\", sum)"
   ]
  },
  {
   "cell_type": "markdown",
   "id": "8ff69d57",
   "metadata": {},
   "source": [
    "5. Print multiplication table of a number"
   ]
  },
  {
   "cell_type": "code",
   "execution_count": null,
   "id": "7d3ae1e9",
   "metadata": {},
   "outputs": [
    {
     "name": "stdout",
     "output_type": "stream",
     "text": [
      "9 * 1 = 9\n",
      "9 * 2 = 18\n",
      "9 * 3 = 27\n",
      "9 * 4 = 36\n",
      "9 * 5 = 45\n",
      "9 * 6 = 54\n",
      "9 * 7 = 63\n",
      "9 * 8 = 72\n",
      "9 * 9 = 81\n",
      "9 * 10 = 90\n"
     ]
    }
   ],
   "source": [
    "number = int(input(\"Enter a number:\"))\n",
    "for i in range(1, 11):\n",
    "    print(number, \"*\", i, \"=\", number * i)\n",
    "    "
   ]
  },
  {
   "cell_type": "markdown",
   "id": "e05496d4",
   "metadata": {},
   "source": [
    "6. Find the largest among two numbers"
   ]
  },
  {
   "cell_type": "code",
   "execution_count": 62,
   "id": "8b4fe347",
   "metadata": {},
   "outputs": [
    {
     "name": "stdout",
     "output_type": "stream",
     "text": [
      "The numbers are: 50 55\n",
      "55 is greater than 50\n"
     ]
    }
   ],
   "source": [
    "number1 = int(input(\"Enter first number:\"))\n",
    "number2 = int(input(\"Enter second number:\"))\n",
    "print(\"The numbers are:\", number1, number2)\n",
    "if number1 > number2:\n",
    "    print(number1, \"is greater than\", number2)\n",
    "elif number2 > number1:\n",
    "    print(number2, \"is greater than\", number1)\n",
    "else:\n",
    "    print(\"Both the numbers are equal\")"
   ]
  },
  {
   "cell_type": "markdown",
   "id": "c7ec3f47",
   "metadata": {},
   "source": [
    "7. Use a while loop to print numbers 5 to 1"
   ]
  },
  {
   "cell_type": "code",
   "execution_count": null,
   "id": "8f9acf5b",
   "metadata": {},
   "outputs": [
    {
     "name": "stdout",
     "output_type": "stream",
     "text": [
      "5\n",
      "4\n",
      "3\n",
      "2\n",
      "1\n"
     ]
    }
   ],
   "source": [
    "num = 5\n",
    "while(num > 0):\n",
    "    print(num)\n",
    "    num = num - 1\n"
   ]
  },
  {
   "cell_type": "markdown",
   "id": "09889150",
   "metadata": {},
   "source": [
    "8. Print all characters in a string"
   ]
  },
  {
   "cell_type": "code",
   "execution_count": null,
   "id": "86fb6ba4",
   "metadata": {},
   "outputs": [
    {
     "name": "stdout",
     "output_type": "stream",
     "text": [
      "T\n",
      "h\n",
      "i\n",
      "s\n",
      " \n",
      "i\n",
      "s\n",
      " \n",
      "a\n",
      " \n",
      "s\n",
      "t\n",
      "r\n",
      "i\n",
      "n\n",
      "g\n"
     ]
    }
   ],
   "source": [
    "myString = \"This is a string\"\n",
    "for char in myString:\n",
    "    print(char)"
   ]
  },
  {
   "cell_type": "markdown",
   "id": "faa756d1",
   "metadata": {},
   "source": [
    "9. Use a logical operator to check if a number is between 10 and 50"
   ]
  },
  {
   "cell_type": "code",
   "execution_count": null,
   "id": "0ed32ba2",
   "metadata": {},
   "outputs": [
    {
     "name": "stdout",
     "output_type": "stream",
     "text": [
      "49 is between 10 and 50\n"
     ]
    }
   ],
   "source": [
    "number = int(input(\"Enter a number:\"))\n",
    "if number >= 10 and number <= 50:\n",
    "    print(number,\"is between 10 and 50\")\n",
    "else:\n",
    "    print(number,\"is not between 10 and 50\")\n"
   ]
  },
  {
   "cell_type": "markdown",
   "id": "ae4cadf0",
   "metadata": {},
   "source": [
    "10. Sum of first 10 natural numbers"
   ]
  },
  {
   "cell_type": "code",
   "execution_count": null,
   "id": "657869c0",
   "metadata": {},
   "outputs": [
    {
     "name": "stdout",
     "output_type": "stream",
     "text": [
      "The sum of first 10 natural numbers is 55\n"
     ]
    }
   ],
   "source": [
    "sum = 0\n",
    "for i in range(1, 11):\n",
    "    sum = sum + i\n",
    "\n",
    "print(\"The sum of first 10 natural numbers is\", sum)"
   ]
  },
  {
   "cell_type": "markdown",
   "id": "97861bfd",
   "metadata": {},
   "source": [
    "11. Print Odd and Even for numbers 1 to 10"
   ]
  },
  {
   "cell_type": "code",
   "execution_count": null,
   "id": "6133434b",
   "metadata": {},
   "outputs": [
    {
     "name": "stdout",
     "output_type": "stream",
     "text": [
      "1 is odd\n",
      "2 is even\n",
      "3 is odd\n",
      "4 is even\n",
      "5 is odd\n",
      "6 is even\n",
      "7 is odd\n",
      "8 is even\n",
      "9 is odd\n",
      "10 is even\n"
     ]
    }
   ],
   "source": [
    "for i in range(1, 11):\n",
    "    if i % 2 == 0:\n",
    "        print(i, \"is even\")\n",
    "    else:\n",
    "        print(i, \"is odd\")\n"
   ]
  },
  {
   "cell_type": "markdown",
   "id": "22505770",
   "metadata": {},
   "source": [
    "12. Use break to stop loop when number is 5"
   ]
  },
  {
   "cell_type": "code",
   "execution_count": null,
   "id": "e4c75547",
   "metadata": {},
   "outputs": [
    {
     "name": "stdout",
     "output_type": "stream",
     "text": [
      "1\n",
      "2\n",
      "3\n",
      "4\n",
      "5\n"
     ]
    }
   ],
   "source": [
    "num = 1\n",
    "while num <= 10:\n",
    "    print(num)\n",
    "    if num == 5:\n",
    "        break\n",
    "    num = num + 1"
   ]
  },
  {
   "cell_type": "markdown",
   "id": "3c1ac0f5",
   "metadata": {},
   "source": [
    "13. Print 1 to 10 and use continue to skip printing 5"
   ]
  },
  {
   "cell_type": "code",
   "execution_count": null,
   "id": "19bf8b10",
   "metadata": {},
   "outputs": [
    {
     "name": "stdout",
     "output_type": "stream",
     "text": [
      "1\n",
      "2\n",
      "3\n",
      "4\n",
      "6\n",
      "7\n",
      "8\n",
      "9\n",
      "10\n"
     ]
    }
   ],
   "source": [
    "i = 1\n",
    "while i <= 10:\n",
    "    if i == 5:\n",
    "        i += 1\n",
    "        continue\n",
    "    print(i)\n",
    "    i = i + 1\n"
   ]
  },
  {
   "cell_type": "markdown",
   "id": "79fda3bd",
   "metadata": {},
   "source": [
    "14. Print all elements in a list using loop"
   ]
  },
  {
   "cell_type": "code",
   "execution_count": null,
   "id": "aac1fa3b",
   "metadata": {},
   "outputs": [
    {
     "name": "stdout",
     "output_type": "stream",
     "text": [
      "10\n",
      "20\n",
      "30\n",
      "40\n",
      "50\n"
     ]
    }
   ],
   "source": [
    "myList = [10, 20, 30, 40, 50]\n",
    "for i in myList:\n",
    "    print(i)\n",
    "    "
   ]
  },
  {
   "cell_type": "markdown",
   "id": "8b51afeb",
   "metadata": {},
   "source": [
    "15. Check if a number is divisible by both 3 and 5"
   ]
  },
  {
   "cell_type": "code",
   "execution_count": null,
   "id": "f5d72328",
   "metadata": {},
   "outputs": [
    {
     "name": "stdout",
     "output_type": "stream",
     "text": [
      "20 is not  divisble by both 3 and 5\n"
     ]
    }
   ],
   "source": [
    "num = int(input(\"Enter a number:\"))\n",
    "if(num % 3 == 0 and num % 5 == 0):\n",
    "    print(num, \"is divisible by both 3 and 5\")\n",
    "else:\n",
    "    print(num, \"is not  divisble by both 3 and 5\")\n"
   ]
  },
  {
   "cell_type": "markdown",
   "id": "6a8757c1",
   "metadata": {},
   "source": [
    "16. Square of all numbers from 1 to 5"
   ]
  },
  {
   "cell_type": "code",
   "execution_count": null,
   "id": "bc90cafe",
   "metadata": {},
   "outputs": [
    {
     "name": "stdout",
     "output_type": "stream",
     "text": [
      "Square of 1 is 1\n",
      "Square of 2 is 4\n",
      "Square of 3 is 9\n",
      "Square of 4 is 16\n",
      "Square of 5 is 25\n"
     ]
    }
   ],
   "source": [
    "square = lambda x: x * x\n",
    "for i in range(1, 6):\n",
    "    print(\"Square of\", i, \"is\", square(i))"
   ]
  },
  {
   "cell_type": "markdown",
   "id": "a6f678c8",
   "metadata": {},
   "source": [
    "17. Print ASCII values of the characters of a string"
   ]
  },
  {
   "cell_type": "code",
   "execution_count": null,
   "id": "9d9f20a7",
   "metadata": {},
   "outputs": [
    {
     "name": "stdout",
     "output_type": "stream",
     "text": [
      "ASCII value of H is 72\n",
      "ASCII value of e is 101\n",
      "ASCII value of l is 108\n",
      "ASCII value of l is 108\n",
      "ASCII value of o is 111\n"
     ]
    }
   ],
   "source": [
    "myString = \"Hello\"\n",
    "for char in myString:\n",
    "    print(\"ASCII value of\", char, \"is\", ord(char))\n"
   ]
  },
  {
   "cell_type": "markdown",
   "id": "f378844c",
   "metadata": {},
   "source": [
    "18. Count down from 10 to 1 using while"
   ]
  },
  {
   "cell_type": "code",
   "execution_count": null,
   "id": "9d8b2f5e",
   "metadata": {},
   "outputs": [
    {
     "name": "stdout",
     "output_type": "stream",
     "text": [
      "10\n",
      "9\n",
      "8\n",
      "7\n",
      "6\n",
      "5\n",
      "4\n",
      "3\n",
      "2\n",
      "1\n"
     ]
    }
   ],
   "source": [
    "num = 10\n",
    "while num >= 1:\n",
    "    print(num)\n",
    "    num = num - 1\n"
   ]
  },
  {
   "cell_type": "markdown",
   "id": "668703ed",
   "metadata": {},
   "source": [
    "19. Check if a number is divisible by 2 or 3"
   ]
  },
  {
   "cell_type": "code",
   "execution_count": null,
   "id": "2947737f",
   "metadata": {},
   "outputs": [
    {
     "name": "stdout",
     "output_type": "stream",
     "text": [
      "8 is divisible by either 2 or 3\n"
     ]
    }
   ],
   "source": [
    "num = int(input(\"Enter a number \"))\n",
    "if num % 2 == 0 or num % 3 == 0:\n",
    "    print(num, \"is divisible by either 2 or 3\")\n",
    "else:\n",
    "    print(num,\"is not divisible by either 2 or 3\")\n"
   ]
  },
  {
   "cell_type": "markdown",
   "id": "b9f8d5d5",
   "metadata": {},
   "source": [
    "20. Print sum of digits of a number"
   ]
  },
  {
   "cell_type": "code",
   "execution_count": null,
   "id": "3220b32c",
   "metadata": {},
   "outputs": [
    {
     "name": "stdout",
     "output_type": "stream",
     "text": [
      "Sum of the digits of the number 77 is 14\n"
     ]
    }
   ],
   "source": [
    "num = int(input(\"Enter a number\"))\n",
    "n = num\n",
    "sum = 0\n",
    "while num > 0:\n",
    "    rem = num % 10\n",
    "    sum = sum + rem\n",
    "    num = num // 10\n",
    "\n",
    "print(\"Sum of the digits of the number\", n, \"is\", sum)"
   ]
  },
  {
   "cell_type": "markdown",
   "id": "9127bdcc",
   "metadata": {},
   "source": [
    "21. Swap two numbers using a temporary variable"
   ]
  },
  {
   "cell_type": "code",
   "execution_count": null,
   "id": "2775fb9b",
   "metadata": {},
   "outputs": [
    {
     "name": "stdout",
     "output_type": "stream",
     "text": [
      "Before swapping: a = 7 , b = 8\n",
      "After swapping: a = 8 , b = 7\n"
     ]
    }
   ],
   "source": [
    "def swap(a,b):\n",
    "    print(\"Before swapping: a =\", a, \", b =\", b)\n",
    "    temp = a\n",
    "    a = b\n",
    "    b = temp\n",
    "\n",
    "    print(\"After swapping: a =\", a, \", b =\", b)\n",
    "\n",
    "a = int(input(\"Enter first number: \"))\n",
    "b = int(input(\"Enter second number: \"))\n",
    "swap(a, b)"
   ]
  },
  {
   "cell_type": "markdown",
   "id": "8eadc49b",
   "metadata": {},
   "source": [
    "22. Print numbers from 1 to 100 that are divisible by 7"
   ]
  },
  {
   "cell_type": "code",
   "execution_count": null,
   "id": "bbb47b08",
   "metadata": {},
   "outputs": [
    {
     "name": "stdout",
     "output_type": "stream",
     "text": [
      "Numbers from 1 to 100 that are divisible by 7:\n",
      "7\n",
      "14\n",
      "21\n",
      "28\n",
      "35\n",
      "42\n",
      "49\n",
      "56\n",
      "63\n",
      "70\n",
      "77\n",
      "84\n",
      "91\n",
      "98\n"
     ]
    }
   ],
   "source": [
    "print(\"Numbers from 1 to 100 that are divisible by 7:\")\n",
    "for i in range(1, 101):\n",
    "    if i % 7 == 0:\n",
    "        print(i)"
   ]
  },
  {
   "cell_type": "markdown",
   "id": "522a5b74",
   "metadata": {},
   "source": [
    "23. Find the factorial of a number"
   ]
  },
  {
   "cell_type": "code",
   "execution_count": null,
   "id": "b160bce5",
   "metadata": {},
   "outputs": [
    {
     "name": "stdout",
     "output_type": "stream",
     "text": [
      "The factorial of 6 is 720\n"
     ]
    }
   ],
   "source": [
    "def factorial(n):\n",
    "    if n == 0 or n == 1:\n",
    "        return 1\n",
    "    else:\n",
    "        return n * factorial(n - 1)\n",
    "n = int(input(\"Enter a number to find its factorial: \"))\n",
    "print(\"The factorial of\", n, \"is\", factorial(n))"
   ]
  },
  {
   "cell_type": "markdown",
   "id": "09692592",
   "metadata": {},
   "source": [
    "24. Count vowels in a string"
   ]
  },
  {
   "cell_type": "code",
   "execution_count": null,
   "id": "c52fc6bf",
   "metadata": {},
   "outputs": [
    {
     "name": "stdout",
     "output_type": "stream",
     "text": [
      "Number of vowels in the string Hello World is 3\n"
     ]
    }
   ],
   "source": [
    "def count_vowels(string):\n",
    "    vowels = \"aeiouAEIOU\"\n",
    "    count = 0\n",
    "    for char in string:\n",
    "        if char in vowels:\n",
    "            count += 1\n",
    "    return count\n",
    "string = input(\"Enter a string: \")\n",
    "vowel_count = count_vowels(string)\n",
    "print(\"Number of vowels in the string\", string, \"is\", vowel_count)"
   ]
  },
  {
   "cell_type": "markdown",
   "id": "f992f210",
   "metadata": {},
   "source": [
    "25. Reverse a number using loop"
   ]
  },
  {
   "cell_type": "code",
   "execution_count": null,
   "id": "c39e6369",
   "metadata": {},
   "outputs": [
    {
     "name": "stdout",
     "output_type": "stream",
     "text": [
      "The original number is 78\n",
      "The reverse of the number is 87\n"
     ]
    }
   ],
   "source": [
    "def reverse_number(n):\n",
    "    reverse = 0\n",
    "    while n > 0:\n",
    "        rem = n % 10\n",
    "        reverse = reverse * 10 + rem\n",
    "        n = n // 10\n",
    "    return reverse\n",
    "n = int(input(\"Enter a number to reverse: \"))\n",
    "print(\"The original number is\", n)\n",
    "print(\"The reverse of the number is\", reverse_number(n))"
   ]
  },
  {
   "cell_type": "markdown",
   "id": "b0ebf111",
   "metadata": {},
   "source": [
    "26. Find the maximum in a list using loop"
   ]
  },
  {
   "cell_type": "code",
   "execution_count": 63,
   "id": "e73c3692",
   "metadata": {},
   "outputs": [
    {
     "name": "stdout",
     "output_type": "stream",
     "text": [
      "List:  [10, 20, 30, 40, 50]\n",
      "The maximum value in the list is: 50\n"
     ]
    }
   ],
   "source": [
    "def find_maximum(myList):\n",
    "    max_value = myList[0]\n",
    "    for num in myList:\n",
    "        if num > max_value:\n",
    "            max_value = num\n",
    "    return max_value\n",
    "\n",
    "myList = input(\"Enter a list of numbers separated by spaces: \").split()\n",
    "myList = [int(num) for num in myList]\n",
    "print(\"List: \", myList)\n",
    "max_value = find_maximum(myList)\n",
    "print(\"The maximum value in the list is:\", max_value)"
   ]
  },
  {
   "cell_type": "markdown",
   "id": "0f677001",
   "metadata": {},
   "source": [
    "27. Prime number check using loop"
   ]
  },
  {
   "cell_type": "code",
   "execution_count": null,
   "id": "c56680b9",
   "metadata": {},
   "outputs": [
    {
     "name": "stdout",
     "output_type": "stream",
     "text": [
      "68 is not a prime number\n"
     ]
    }
   ],
   "source": [
    "n = int(input(\"Enter a number to check if it is prime: \"))\n",
    "num = n\n",
    "if num <= 1:\n",
    "    print(num, \"is not a prime number\")\n",
    "else:\n",
    "    for i in range(2, num):\n",
    "        if (num % i) == 0:\n",
    "            print(num, \"is not a prime number\")\n",
    "            break\n",
    "        else:\n",
    "            print(num, \"is a prime number\")\n",
    "            break\n",
    "        "
   ]
  },
  {
   "cell_type": "markdown",
   "id": "5e87b0fa",
   "metadata": {},
   "source": [
    "28. Sum of even numbers in a list "
   ]
  },
  {
   "cell_type": "code",
   "execution_count": null,
   "id": "7b92035b",
   "metadata": {},
   "outputs": [
    {
     "name": "stdout",
     "output_type": "stream",
     "text": [
      "List: [11, 20, 33, 45, 56]\n",
      "Sum of even numbers in the list: 76\n"
     ]
    }
   ],
   "source": [
    "myList = input(\"Enter a list of numbers separated by spaces: \").split()\n",
    "myList = [int(num) for num in myList]\n",
    "print(\"List:\", myList)\n",
    "sum = 0\n",
    "if myList[0]%2==0:\n",
    "    sum = myList[0]\n",
    "for i in range(1,len(myList)):\n",
    "    if myList[i]%2==0:\n",
    "        sum = sum + myList[i]\n",
    "print(\"Sum of even numbers in the list:\", sum)"
   ]
  },
  {
   "cell_type": "markdown",
   "id": "9a8832c9",
   "metadata": {},
   "source": [
    "29. Print number pattern using nested loops"
   ]
  },
  {
   "cell_type": "code",
   "execution_count": null,
   "id": "9bb4e732",
   "metadata": {},
   "outputs": [
    {
     "name": "stdout",
     "output_type": "stream",
     "text": [
      "1 \n",
      "1 2 \n",
      "1 2 3 \n",
      "1 2 3 4 \n",
      "1 2 3 4 5 \n"
     ]
    }
   ],
   "source": [
    "i = 1\n",
    "while( i <= 5):\n",
    "    j = 1\n",
    "    while(j <= i):\n",
    "        print(j, end=' ')\n",
    "        j += 1\n",
    "    print() \n",
    "    i += 1\n",
    "\n"
   ]
  },
  {
   "cell_type": "markdown",
   "id": "40884455",
   "metadata": {},
   "source": [
    "30. Count frequency of digits in a number"
   ]
  },
  {
   "cell_type": "code",
   "execution_count": null,
   "id": "f18f8184",
   "metadata": {},
   "outputs": [
    {
     "name": "stdout",
     "output_type": "stream",
     "text": [
      "{7: 2}\n"
     ]
    }
   ],
   "source": [
    "def count_frequency(n):\n",
    "    frequency = {}\n",
    "    while n > 0:\n",
    "        digit = n % 10\n",
    "        if digit in frequency:\n",
    "            frequency[digit] += 1\n",
    "        else:\n",
    "            frequency[digit] = 1\n",
    "        n //= 10\n",
    "    return frequency\n",
    "n = int(input(\"Enter a number to count frequency of digits: \"))\n",
    "frequency = count_frequency(n)\n",
    "print(frequency)\n"
   ]
  },
  {
   "cell_type": "markdown",
   "id": "61cb1148",
   "metadata": {},
   "source": [
    "31. GCD of two numbers using loop"
   ]
  },
  {
   "cell_type": "code",
   "execution_count": null,
   "id": "e65ce3f1",
   "metadata": {},
   "outputs": [
    {
     "name": "stdout",
     "output_type": "stream",
     "text": [
      "GCD of 20 and 70 is 10\n"
     ]
    }
   ],
   "source": [
    "def gcd(a, b):\n",
    "    while b:\n",
    "        a, b = b, a % b \n",
    "    return a\n",
    "a = int(input(\"Enter first number: \"))\n",
    "b = int(input(\"Enter second number: \"))\n",
    "print(\"GCD of\", a, \"and\", b, \"is\", gcd(a, b))"
   ]
  },
  {
   "cell_type": "markdown",
   "id": "62dfcd5f",
   "metadata": {},
   "source": [
    "32. Check if a number is a palindrome"
   ]
  },
  {
   "cell_type": "code",
   "execution_count": null,
   "id": "d8f1bf89",
   "metadata": {},
   "outputs": [
    {
     "name": "stdout",
     "output_type": "stream",
     "text": [
      "11 is a palindrome\n"
     ]
    }
   ],
   "source": [
    "def is_palindrome(num):\n",
    "    original = num\n",
    "    reverse = 0\n",
    "    while num > 0:\n",
    "        rem = num % 10\n",
    "        reverse = reverse * 10 + rem\n",
    "        num = num // 10\n",
    "    return original == reverse\n",
    "num = int(input(\"Enter a number to check if it is a palindrome: \"))\n",
    "if is_palindrome(num):\n",
    "    print(num, \"is a palindrome\")\n",
    "else:\n",
    "    print(num, \"is not a palindrome\")"
   ]
  },
  {
   "cell_type": "markdown",
   "id": "fa0e702c",
   "metadata": {},
   "source": [
    "33. Count words in a sentence"
   ]
  },
  {
   "cell_type": "code",
   "execution_count": 64,
   "id": "aacfe57b",
   "metadata": {},
   "outputs": [
    {
     "name": "stdout",
     "output_type": "stream",
     "text": [
      "Number of words in the sentence  Hello World is 2\n"
     ]
    }
   ],
   "source": [
    "def count_words(sentence):\n",
    "    words = sentence.split()\n",
    "    return len(words)\n",
    "sentence = input(\"Enter a sentence: \") \n",
    "word_count = count_words(sentence)\n",
    "print(\"Number of words in the sentence \", sentence, \"is\", word_count)"
   ]
  },
  {
   "cell_type": "markdown",
   "id": "f1dc4fd8",
   "metadata": {},
   "source": [
    "34. Find common elements in two lists"
   ]
  },
  {
   "cell_type": "code",
   "execution_count": 66,
   "id": "17673680",
   "metadata": {},
   "outputs": [
    {
     "name": "stdout",
     "output_type": "stream",
     "text": [
      "First list: [1, 2, 3, 4, 5]\n",
      "Second list: [4, 5, 6, 7, 8]\n",
      "Common elements in the two lists: [4, 5]\n"
     ]
    }
   ],
   "source": [
    "def find_common_elements(list1, list2):\n",
    "    common = []\n",
    "    for element in list1:\n",
    "        if element in list2:\n",
    "            common.append(element)\n",
    "    return common\n",
    "list1 = input(\"Enter first list of numbers separated by spaces: \").split()\n",
    "list1 = [int(num) for num in list1]\n",
    "list2 = input(\"Enter second list of numbers separated by spaces: \").split()\n",
    "list2 = [int(num) for num in list2]\n",
    "print(\"First list:\", list1)\n",
    "print(\"Second list:\", list2)\n",
    "common_elements = find_common_elements(list1, list2)\n",
    "print(\"Common elements in the two lists:\", common_elements)\n"
   ]
  },
  {
   "cell_type": "markdown",
   "id": "1bea0b48",
   "metadata": {},
   "source": [
    "35. Use elif to grade students based on score "
   ]
  },
  {
   "cell_type": "code",
   "execution_count": 46,
   "id": "a1291186",
   "metadata": {},
   "outputs": [
    {
     "name": "stdout",
     "output_type": "stream",
     "text": [
      "Please enter the valid score\n"
     ]
    }
   ],
   "source": [
    "marks = int(input(\"Enter the marks obtained by the student\"))\n",
    "if marks >= 90 and marks <= 100:\n",
    "    print(\"The student has secured O grade\")\n",
    "elif marks >= 80 and marks < 90:\n",
    "    print(\"The student has secured A+ grade\")\n",
    "elif marks >= 70 and marks < 80:\n",
    "    print(\"The student has secured A grade\")\n",
    "elif marks >= 60 and marks < 70:\n",
    "    print(\"The student has secured B+ grade\")\n",
    "elif marks >= 50 and marks < 60:\n",
    "    print(\"The student has secured B grade\")\n",
    "elif marks >= 40 and marks < 50:\n",
    "    print(\"The student has secured C grade\")\n",
    "elif marks < 40:\n",
    "    print(\"The student has failed\")\n",
    "else:\n",
    "    print(\"Please enter the valid score\")\n"
   ]
  },
  {
   "cell_type": "markdown",
   "id": "6578c4ee",
   "metadata": {},
   "source": [
    "36. Print a right-angled triangle using * "
   ]
  },
  {
   "cell_type": "code",
   "execution_count": 49,
   "id": "73e12410",
   "metadata": {},
   "outputs": [
    {
     "name": "stdout",
     "output_type": "stream",
     "text": [
      "* \n",
      "* * \n",
      "* * * \n",
      "* * * * \n",
      "* * * * * \n",
      "* * * * * * \n",
      "* * * * * * * \n"
     ]
    }
   ],
   "source": [
    "i = 1\n",
    "while i <= 7:\n",
    "    j = 1\n",
    "    while j <= i:\n",
    "        print(\"*\", end=' ')\n",
    "        j += 1\n",
    "    print()\n",
    "    i += 1"
   ]
  },
  {
   "cell_type": "markdown",
   "id": "c923da59",
   "metadata": {},
   "source": [
    "37. Check if a year is a leap year "
   ]
  },
  {
   "cell_type": "code",
   "execution_count": null,
   "id": "027a62de",
   "metadata": {},
   "outputs": [
    {
     "name": "stdout",
     "output_type": "stream",
     "text": [
      "2025 is not a leap year\n"
     ]
    }
   ],
   "source": [
    "year = int(input(\"Enter a year to check if it is a leap year\"))\n",
    "if year % 4 == 0:\n",
    "    print(year, \"is a leap year\")\n",
    "else:\n",
    "    print(year, \"is not a leap year\")"
   ]
  },
  {
   "cell_type": "markdown",
   "id": "a50a1655",
   "metadata": {},
   "source": [
    "38. Print fibonacci series using loop"
   ]
  },
  {
   "cell_type": "code",
   "execution_count": null,
   "id": "3576a0fe",
   "metadata": {},
   "outputs": [
    {
     "name": "stdout",
     "output_type": "stream",
     "text": [
      "Fibonacci series:\n",
      "0 1 1 2 3 5 8 13 21 34 "
     ]
    }
   ],
   "source": [
    "f0 = 0\n",
    "f1 = 1\n",
    "print(\"Fibonacci series:\")\n",
    "for i in range(0, 10):\n",
    "    print(f0, end=\" \")\n",
    "    f = f0 + f1\n",
    "    f0 = f1\n",
    "    f1 = f\n"
   ]
  },
  {
   "cell_type": "markdown",
   "id": "b8a79f6e",
   "metadata": {},
   "source": [
    "39. Count uppercase and lowercase letters in a string"
   ]
  },
  {
   "cell_type": "code",
   "execution_count": null,
   "id": "348da5ca",
   "metadata": {},
   "outputs": [
    {
     "name": "stdout",
     "output_type": "stream",
     "text": [
      "Number of uppercase letters: 0\n",
      "Number of lowercase letters: 8\n"
     ]
    }
   ],
   "source": [
    "string = input(\"Enter a string \")\n",
    "upper_count = 0\n",
    "lower_count = 0\n",
    "for char in string:\n",
    "    if char.isupper():\n",
    "        upper_count += 1\n",
    "    elif char.islower():\n",
    "        lower_count += 1\n",
    "print(\"Number of uppercase letters:\", upper_count)\n",
    "print(\"Number of lowercase letters:\", lower_count)"
   ]
  },
  {
   "cell_type": "markdown",
   "id": "fe060177",
   "metadata": {},
   "source": [
    "40. Print numbers from 100 to 1 using loop"
   ]
  },
  {
   "cell_type": "code",
   "execution_count": null,
   "id": "10e68d4b",
   "metadata": {},
   "outputs": [
    {
     "name": "stdout",
     "output_type": "stream",
     "text": [
      "100\n",
      "99\n",
      "98\n",
      "97\n",
      "96\n",
      "95\n",
      "94\n",
      "93\n",
      "92\n",
      "91\n",
      "90\n",
      "89\n",
      "88\n",
      "87\n",
      "86\n",
      "85\n",
      "84\n",
      "83\n",
      "82\n",
      "81\n",
      "80\n",
      "79\n",
      "78\n",
      "77\n",
      "76\n",
      "75\n",
      "74\n",
      "73\n",
      "72\n",
      "71\n",
      "70\n",
      "69\n",
      "68\n",
      "67\n",
      "66\n",
      "65\n",
      "64\n",
      "63\n",
      "62\n",
      "61\n",
      "60\n",
      "59\n",
      "58\n",
      "57\n",
      "56\n",
      "55\n",
      "54\n",
      "53\n",
      "52\n",
      "51\n",
      "50\n",
      "49\n",
      "48\n",
      "47\n",
      "46\n",
      "45\n",
      "44\n",
      "43\n",
      "42\n",
      "41\n",
      "40\n",
      "39\n",
      "38\n",
      "37\n",
      "36\n",
      "35\n",
      "34\n",
      "33\n",
      "32\n",
      "31\n",
      "30\n",
      "29\n",
      "28\n",
      "27\n",
      "26\n",
      "25\n",
      "24\n",
      "23\n",
      "22\n",
      "21\n",
      "20\n",
      "19\n",
      "18\n",
      "17\n",
      "16\n",
      "15\n",
      "14\n",
      "13\n",
      "12\n",
      "11\n",
      "10\n",
      "9\n",
      "8\n",
      "7\n",
      "6\n",
      "5\n",
      "4\n",
      "3\n",
      "2\n",
      "1\n"
     ]
    }
   ],
   "source": [
    "i = 100\n",
    "while i >= 1:\n",
    "    print(i)\n",
    "    i = i - 1"
   ]
  }
 ],
 "metadata": {
  "kernelspec": {
   "display_name": "Python 3",
   "language": "python",
   "name": "python3"
  },
  "language_info": {
   "codemirror_mode": {
    "name": "ipython",
    "version": 3
   },
   "file_extension": ".py",
   "mimetype": "text/x-python",
   "name": "python",
   "nbconvert_exporter": "python",
   "pygments_lexer": "ipython3",
   "version": "3.11.1"
  }
 },
 "nbformat": 4,
 "nbformat_minor": 5
}
