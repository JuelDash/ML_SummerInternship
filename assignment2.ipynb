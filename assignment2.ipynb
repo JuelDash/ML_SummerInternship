{
 "cells": [
  {
   "cell_type": "markdown",
   "id": "94f122f1",
   "metadata": {},
   "source": [
    "1. Write a function to check if a number is prime"
   ]
  },
  {
   "cell_type": "code",
   "execution_count": 13,
   "id": "16311720",
   "metadata": {},
   "outputs": [
    {
     "name": "stdout",
     "output_type": "stream",
     "text": [
      "7 is a prime number\n"
     ]
    }
   ],
   "source": [
    "def is_prime(num):\n",
    "    if num < 2:\n",
    "        print(num, \"is not a prime number\")\n",
    "    for i in range(2, int(num** 0.5) + 1):\n",
    "        if num % i == 0:\n",
    "            print(num, \"is not a prime number\")\n",
    "    print(num, \"is a prime number\")\n",
    "\n",
    "n = int(input(\"Enter a number:\"))\n",
    "is_prime(n)"
   ]
  },
  {
   "cell_type": "markdown",
   "id": "01116f9a",
   "metadata": {},
   "source": [
    "2. Create a function to calculate the area of the rectangle"
   ]
  },
  {
   "cell_type": "code",
   "execution_count": null,
   "id": "85aaa1f3",
   "metadata": {},
   "outputs": [
    {
     "name": "stdout",
     "output_type": "stream",
     "text": [
      "Area of the rectangle is having length 8 and width 6 is 48\n"
     ]
    }
   ],
   "source": [
    "def rectangle_area(length, width):\n",
    "    area = length * width\n",
    "    print(\"Area of the rectangle is having length\",length, \"and width\",width, \"is\",area)\n",
    "  \n",
    "length = int(input(\"Enter length of the rectangle:\"))\n",
    "width = int(input(\"Enter width of the rectangle:\"))\n",
    "rectangle_area(length, width)\n"
   ]
  },
  {
   "cell_type": "markdown",
   "id": "9fae98be",
   "metadata": {},
   "source": [
    "3. Create a function to find the maximum of three numbers"
   ]
  },
  {
   "cell_type": "code",
   "execution_count": 31,
   "id": "b94c377a",
   "metadata": {},
   "outputs": [
    {
     "name": "stdout",
     "output_type": "stream",
     "text": [
      "8 is the greatest number\n"
     ]
    }
   ],
   "source": [
    "def max_three_numbers(a, b, c):\n",
    "    if a > b and a > c:\n",
    "        print(a, \"is the greatest number\")\n",
    "    elif b > a and b > c:\n",
    "        print(b, \"is the greatest number\")\n",
    "    elif c > a and c > b:\n",
    "        print(c, \"is the greatest number\")\n",
    "    else:\n",
    "        print(\"All the numbers are equal\")\n",
    "\n",
    "a = int(input(\"Enter first number:\"))\n",
    "b = int(input(\"Enter second number:\"))\n",
    "c = int(input(\"Enter third number:\"))\n",
    "\n",
    "max_three_numbers(a, b, c)"
   ]
  },
  {
   "cell_type": "markdown",
   "id": "56a7fd2f",
   "metadata": {},
   "source": [
    "4. Write a function to reverse a string"
   ]
  },
  {
   "cell_type": "code",
   "execution_count": 28,
   "id": "ab732509",
   "metadata": {},
   "outputs": [
    {
     "name": "stdout",
     "output_type": "stream",
     "text": [
      "The Original String is Good Morning\n",
      "The reversed string is gninroM dooG\n"
     ]
    }
   ],
   "source": [
    "def string_reverse(string):\n",
    "    # return string[::-1]\n",
    "    return ''.join(reversed(string))\n",
    "\n",
    "myString = input(\"Enter a string: \")\n",
    "print(\"The Original String is\", myString) \n",
    "print(\"The reversed string is\", string_reverse(myString))"
   ]
  },
  {
   "cell_type": "markdown",
   "id": "18dbd32c",
   "metadata": {},
   "source": [
    "5. Create a function to count the number of vowels in a string"
   ]
  },
  {
   "cell_type": "code",
   "execution_count": null,
   "id": "3d3c6bd6",
   "metadata": {},
   "outputs": [
    {
     "name": "stdout",
     "output_type": "stream",
     "text": [
      "The number of vowels in the string Hello World is 3\n"
     ]
    }
   ],
   "source": [
    "def count_vowels(string):\n",
    "    vowels = \"aeiouAEIOU\"\n",
    "    count = 0\n",
    "    for char in string:\n",
    "        if char in vowels:\n",
    "            count += 1\n",
    "    return count\n",
    "\n",
    "getString = input(\"Enter a string:\")\n",
    "print(\"The number of vowels in the string\",getString,\"is\",count_vowels(getString))\n"
   ]
  },
  {
   "cell_type": "markdown",
   "id": "6757b48b",
   "metadata": {},
   "source": [
    "6. Write a function to check if a string is a palindrome"
   ]
  },
  {
   "cell_type": "code",
   "execution_count": 39,
   "id": "e3e08f89",
   "metadata": {},
   "outputs": [
    {
     "name": "stdout",
     "output_type": "stream",
     "text": [
      "radar is a palindrome\n"
     ]
    }
   ],
   "source": [
    "def check_palindrome(string):\n",
    "    if string == string[::-1]:\n",
    "        print(string, \"is a palindrome\")\n",
    "    else:\n",
    "        print(string, \"is not palindrome\")\n",
    "\n",
    "getString = input(\"Enter a string:\")\n",
    "check_palindrome(getString)"
   ]
  },
  {
   "cell_type": "markdown",
   "id": "a4fea028",
   "metadata": {},
   "source": [
    "7. Create a function to calculate the sum of a list of numbers"
   ]
  },
  {
   "cell_type": "code",
   "execution_count": null,
   "id": "3e629e6f",
   "metadata": {},
   "outputs": [
    {
     "name": "stdout",
     "output_type": "stream",
     "text": [
      "The sum of the list is 15\n"
     ]
    }
   ],
   "source": [
    "myList = [1, 2, 3, 4, 5]\n",
    "def sum_list(myList):\n",
    "    total = 0\n",
    "    for num in myList:\n",
    "        total += num\n",
    "    return total\n",
    "print(\"The sum of the list is\", sum_list(myList)) "
   ]
  },
  {
   "cell_type": "markdown",
   "id": "43006c43",
   "metadata": {},
   "source": [
    "8. Write a function to return the Fibonacci sequence up to n terms"
   ]
  },
  {
   "cell_type": "code",
   "execution_count": 10,
   "id": "d9c44a7c",
   "metadata": {},
   "outputs": [
    {
     "name": "stdout",
     "output_type": "stream",
     "text": [
      "[0, 1, 1, 2, 3, 5, 8, 13, 21, 34, 55, 89]\n"
     ]
    }
   ],
   "source": [
    "def fibonacci(number):\n",
    "   sequence = []\n",
    "   f0 = 0\n",
    "   f1 = 1\n",
    "   for i in range(number):\n",
    "        sequence.append(f0)\n",
    "        f0, f1 = f1, f0 + f1\n",
    "   return sequence\n",
    "\n",
    "n = int(input(\"Enter the number of terms: \"))\n",
    "print(fibonacci(n))"
   ]
  },
  {
   "cell_type": "markdown",
   "id": "fb3ef0a1",
   "metadata": {},
   "source": [
    "9. Write a function to convert Celsius to Farenheit"
   ]
  },
  {
   "cell_type": "code",
   "execution_count": 22,
   "id": "d86f2fff",
   "metadata": {},
   "outputs": [
    {
     "name": "stdout",
     "output_type": "stream",
     "text": [
      "96.8\n"
     ]
    }
   ],
   "source": [
    "def celsius_to_farenheit(degree):\n",
    "    celsius = degree\n",
    "    farenheit = 9 / 5 * celsius + 32\n",
    "    return farenheit\n",
    "degree = float(input(\"Enter the temperature in celsius\"))\n",
    "print(celsius_to_farenheit(degree))"
   ]
  },
  {
   "cell_type": "markdown",
   "id": "924acb93",
   "metadata": {},
   "source": [
    "10. Write a function to find the minimum value in a list"
   ]
  },
  {
   "cell_type": "code",
   "execution_count": 50,
   "id": "5320f5e7",
   "metadata": {},
   "outputs": [
    {
     "name": "stdout",
     "output_type": "stream",
     "text": [
      "The minimum value in the list is: 9\n"
     ]
    }
   ],
   "source": [
    "myList = [11, 56, 78, 9, 49]\n",
    "def minValue(myList):\n",
    "    return min(myList)\n",
    "print(\"The minimum value in the list is:\", minValue(myList))"
   ]
  },
  {
   "cell_type": "markdown",
   "id": "df59e2da",
   "metadata": {},
   "source": [
    "11. Create a function to count how many times a character appears in a string"
   ]
  },
  {
   "cell_type": "code",
   "execution_count": null,
   "id": "f8d65e32",
   "metadata": {},
   "outputs": [],
   "source": [
    "def count_char(string, char):\n",
    "    count = 0\n",
    "    for c in string:\n",
    "        if c == char:\n",
    "            count += 1\n",
    "    return count\n",
    "\n",
    "myString = input(\"Please enter a string: \")\n",
    "myChar = input(\"Enter the character to count: \")\n",
    "print(f\"The character '{myChar}' appears {count_char(myString, myChar)} times in the string.\")"
   ]
  },
  {
   "cell_type": "markdown",
   "id": "cf6796d5",
   "metadata": {},
   "source": [
    "12. Write a function to check if a number is a perfect number"
   ]
  },
  {
   "cell_type": "code",
   "execution_count": 29,
   "id": "0503a69f",
   "metadata": {},
   "outputs": [
    {
     "name": "stdout",
     "output_type": "stream",
     "text": [
      "6 is a perfect number\n"
     ]
    }
   ],
   "source": [
    "def is_perfect_number(num):\n",
    "    if num < 1:\n",
    "        return False\n",
    "    sum_of_divisors = 0\n",
    "    for i in range(1, num):\n",
    "        if num % i == 0:\n",
    "            sum_of_divisors += i\n",
    "    return sum_of_divisors == num\n",
    "\n",
    "n = int(input(\"Enter a number: \"))\n",
    "if is_perfect_number(n):\n",
    "    print(n, \"is a perfect number\")\n",
    "else:\n",
    "    print(n, \"is not a perfect number\")"
   ]
  },
  {
   "cell_type": "markdown",
   "id": "feed1527",
   "metadata": {},
   "source": [
    "13. Create a function to find the sum of digits of a number"
   ]
  },
  {
   "cell_type": "code",
   "execution_count": 52,
   "id": "1f0a7eee",
   "metadata": {},
   "outputs": [
    {
     "name": "stdout",
     "output_type": "stream",
     "text": [
      "Sum of the digits of the number 77 is 14\n"
     ]
    }
   ],
   "source": [
    "num = int(input(\"Enter a number\"))\n",
    "n = num\n",
    "def sum_of_digits(num):\n",
    "    sum = 0\n",
    "    while num > 0:\n",
    "        rem = num % 10\n",
    "        sum = sum + rem\n",
    "        num = num // 10\n",
    "    return sum\n",
    "sum = sum_of_digits(num)\n",
    "print(\"Sum of the digits of the number\", n, \"is\", sum)"
   ]
  },
  {
   "cell_type": "markdown",
   "id": "2a233d97",
   "metadata": {},
   "source": [
    "14. Write a function that takes a string and returns a dictionary of character frequencies"
   ]
  },
  {
   "cell_type": "code",
   "execution_count": 35,
   "id": "d1f5f8dc",
   "metadata": {},
   "outputs": [
    {
     "name": "stdout",
     "output_type": "stream",
     "text": [
      "{'H': 1, 'e': 1, 'l': 3, 'o': 2, ' ': 1, 'W': 1, 'r': 1, 'd': 1}\n"
     ]
    }
   ],
   "source": [
    "def frequency_of_characters(getString):\n",
    "    count = {}\n",
    "    for i in getString:\n",
    "        count[i] = count.get(i,0)+1\n",
    "    print(count)\n",
    "getString = input(\"Enter the string\")\n",
    "frequency_of_characters(getString)\n"
   ]
  },
  {
   "cell_type": "markdown",
   "id": "1b128393",
   "metadata": {},
   "source": [
    "15. Write a function that returns the average of a list of numbers"
   ]
  },
  {
   "cell_type": "code",
   "execution_count": 54,
   "id": "7bd9e570",
   "metadata": {},
   "outputs": [
    {
     "name": "stdout",
     "output_type": "stream",
     "text": [
      "3.0\n"
     ]
    }
   ],
   "source": [
    "import builtins\n",
    "\n",
    "def calculate_average(myList):\n",
    "    if len(myList) == 0:\n",
    "        return 0\n",
    "    else:\n",
    "        return builtins.sum(myList) / len(myList)\n",
    "\n",
    "print(calculate_average([1, 2, 3, 4, 5]))"
   ]
  },
  {
   "cell_type": "markdown",
   "id": "61c2e2c3",
   "metadata": {},
   "source": [
    "16. Create a function that accepts a number and prints its multiplication table"
   ]
  },
  {
   "cell_type": "code",
   "execution_count": 2,
   "id": "696be573",
   "metadata": {},
   "outputs": [
    {
     "name": "stdout",
     "output_type": "stream",
     "text": [
      "7 x 1 = 7\n",
      "7 x 2 = 14\n",
      "7 x 3 = 21\n",
      "7 x 4 = 28\n",
      "7 x 5 = 35\n",
      "7 x 6 = 42\n",
      "7 x 7 = 49\n",
      "7 x 8 = 56\n",
      "7 x 9 = 63\n",
      "7 x 10 = 70\n"
     ]
    }
   ],
   "source": [
    "def multiplication_table(number):\n",
    "    for i in range(1, 11):\n",
    "        print(f\"{number} x {i} = {number * i}\")\n",
    "number = int(input(\"Enter a number for multiplication table: \"))\n",
    "multiplication_table(number)\n"
   ]
  },
  {
   "cell_type": "markdown",
   "id": "f48d0289",
   "metadata": {},
   "source": [
    "17. Write a function that accepts a list and returns the list in reverse order"
   ]
  },
  {
   "cell_type": "code",
   "execution_count": 3,
   "id": "8e7f6cc7",
   "metadata": {},
   "outputs": [
    {
     "name": "stdout",
     "output_type": "stream",
     "text": [
      "Original List: [1, 2, 3, 4, 5]\n",
      "Reversed List: [5, 4, 3, 2, 1]\n"
     ]
    }
   ],
   "source": [
    "def reverse_list(myList):\n",
    "    return myList[::-1]\n",
    "\n",
    "myList = [1, 2, 3, 4, 5]\n",
    "print(\"Original List:\", myList)\n",
    "print(\"Reversed List:\", reverse_list(myList))"
   ]
  },
  {
   "cell_type": "markdown",
   "id": "638a8cf7",
   "metadata": {},
   "source": [
    "18. Write a function to find the second largest number in a list"
   ]
  },
  {
   "cell_type": "code",
   "execution_count": 4,
   "id": "de7b30de",
   "metadata": {},
   "outputs": [
    {
     "name": "stdout",
     "output_type": "stream",
     "text": [
      "The second largest number in the list is: 4\n"
     ]
    }
   ],
   "source": [
    "def find_second_largest(myList):\n",
    "    if len(myList) < 2:\n",
    "        return None\n",
    "    first = second = float('-inf')\n",
    "    for number in myList:\n",
    "        if number > first:\n",
    "            second = first\n",
    "            first = number\n",
    "        elif number > second and number != first:\n",
    "            second = number\n",
    "    return second if second != float('-inf') else None\n",
    "\n",
    "myList = [1, 2, 3, 4, 5]\n",
    "print(\"The second largest number in the list is:\", find_second_largest(myList))"
   ]
  },
  {
   "cell_type": "markdown",
   "id": "89310dc7",
   "metadata": {},
   "source": [
    "19. Create a function that accepts a list of integers and returns only the even ones"
   ]
  },
  {
   "cell_type": "code",
   "execution_count": 5,
   "id": "e5ec4daf",
   "metadata": {},
   "outputs": [
    {
     "name": "stdout",
     "output_type": "stream",
     "text": [
      "Even numbers in the list are:\n",
      "2\n",
      "4\n",
      "6\n",
      "8\n",
      "10\n"
     ]
    }
   ],
   "source": [
    "def even_ones(myList):\n",
    "    for i in myList:\n",
    "        if i % 2 == 0:\n",
    "            print(i)\n",
    "myList = [1, 2, 3, 4, 5, 6, 7, 8, 9, 10]\n",
    "print(\"Even numbers in the list are:\")\n",
    "even_ones(myList) \n"
   ]
  },
  {
   "cell_type": "markdown",
   "id": "4da9c318",
   "metadata": {},
   "source": [
    "20. Write a function to check if all characters in a string are unique"
   ]
  },
  {
   "cell_type": "code",
   "execution_count": null,
   "id": "60823974",
   "metadata": {},
   "outputs": [
    {
     "name": "stdout",
     "output_type": "stream",
     "text": [
      "All characters are unique: False\n"
     ]
    }
   ],
   "source": [
    "def are_characters_unique(string):\n",
    "    seen = set()\n",
    "    for char in string:\n",
    "        if char in seen:\n",
    "            return False\n",
    "        seen.add(char)\n",
    "    return True\n",
    "getString = input(\"Enter a string: \")\n",
    "print(\"All characters are unique:\", are_characters_unique(getString))"
   ]
  },
  {
   "cell_type": "markdown",
   "id": "8e9f4c98",
   "metadata": {},
   "source": [
    "21. Create a function to calculate the greatest common divisior (GCD) of two numbers "
   ]
  },
  {
   "cell_type": "code",
   "execution_count": 1,
   "id": "8c10dcc7",
   "metadata": {},
   "outputs": [
    {
     "name": "stdout",
     "output_type": "stream",
     "text": [
      "GCD of 60 and 15 is: 15\n"
     ]
    }
   ],
   "source": [
    "def gcd_of_two_numbers(a, b):\n",
    "    while b:\n",
    "        a, b = b, a % b\n",
    "    return a\n",
    "a = int(input(\"Enter first number: \"))\n",
    "b = int(input(\"Enter second number: \"))\n",
    "print(\"GCD of\", a, \"and\", b, \"is:\", gcd_of_two_numbers(a, b))"
   ]
  },
  {
   "cell_type": "markdown",
   "id": "49b6713e",
   "metadata": {},
   "source": [
    "22. Write a function to find the least common multiple (LCM) of two numbers"
   ]
  },
  {
   "cell_type": "code",
   "execution_count": 3,
   "id": "66d13332",
   "metadata": {},
   "outputs": [
    {
     "name": "stdout",
     "output_type": "stream",
     "text": [
      "LCM of 15 and 20 is: 60\n"
     ]
    }
   ],
   "source": [
    "def lcm_of_two_numbers(a, b):\n",
    "    return abs(a * b) // gcd_of_two_numbers(a, b)\n",
    "a = int(input(\"Enter first number: \"))\n",
    "b = int(input(\"Enter second number: \"))\n",
    "print(\"LCM of\", a, \"and\", b, \"is:\", lcm_of_two_numbers(a, b))"
   ]
  },
  {
   "cell_type": "markdown",
   "id": "9c4d0084",
   "metadata": {},
   "source": [
    "23. Create a function to remove duplicates from a list\n"
   ]
  },
  {
   "cell_type": "code",
   "execution_count": 6,
   "id": "0e5c2ee5",
   "metadata": {},
   "outputs": [
    {
     "name": "stdout",
     "output_type": "stream",
     "text": [
      "List after removing duplicates: [1, 2, 3, 4, 5]\n"
     ]
    }
   ],
   "source": [
    "def remove_duplicates(myList):\n",
    "    return list(set(myList))\n",
    "myList = [1, 2, 2, 3, 4, 4, 5]\n",
    "print(\"List after removing duplicates:\", remove_duplicates(myList))"
   ]
  },
  {
   "cell_type": "markdown",
   "id": "5acb356f",
   "metadata": {},
   "source": [
    "24. Write a recursive function to compute the factorial of a number"
   ]
  },
  {
   "cell_type": "code",
   "execution_count": 7,
   "id": "e3ee45c8",
   "metadata": {},
   "outputs": [
    {
     "name": "stdout",
     "output_type": "stream",
     "text": [
      "Factorial of 6 is 720\n"
     ]
    }
   ],
   "source": [
    "def factorial(n):\n",
    "    if n == 0:\n",
    "        return 1\n",
    "    elif n == 1:\n",
    "        return 1\n",
    "    else:\n",
    "        return n * factorial(n-1)\n",
    "n = int(input(\"Enter a number \"))\n",
    "print(\"Factorial of\", n, \"is\", factorial(n))"
   ]
  },
  {
   "cell_type": "markdown",
   "id": "bd687b8e",
   "metadata": {},
   "source": [
    "25. Create a function that checks if a number is an Armstrong number"
   ]
  },
  {
   "cell_type": "code",
   "execution_count": 9,
   "id": "fd15b588",
   "metadata": {},
   "outputs": [
    {
     "name": "stdout",
     "output_type": "stream",
     "text": [
      "153 is an Armstrong number\n"
     ]
    }
   ],
   "source": [
    "def armstrong(n):\n",
    "    sum = 0\n",
    "    temp = n\n",
    "    while temp > 0:\n",
    "        digit = temp % 10\n",
    "        sum += digit ** 3\n",
    "        temp //= 10\n",
    "    return sum == n\n",
    "n = int(input(\"Enter a number: \"))\n",
    "if armstrong(n):\n",
    "    print(n, \"is an Armstrong number\")\n",
    "else:\n",
    "    print(n, \"is not an Armstrong number\")\n"
   ]
  },
  {
   "cell_type": "markdown",
   "id": "fb5afe34",
   "metadata": {},
   "source": [
    "26. Write a function that returns all prime numbers upto n"
   ]
  },
  {
   "cell_type": "code",
   "execution_count": 16,
   "id": "e169056d",
   "metadata": {},
   "outputs": [
    {
     "name": "stdout",
     "output_type": "stream",
     "text": [
      "[2, 3, 5, 7]\n"
     ]
    }
   ],
   "source": [
    "def prime_numbers(n):\n",
    "    primes = []\n",
    "    for i in range(2, n + 1):\n",
    "        for j in range(2, int(i ** 0.5) + 1):\n",
    "            if i % j == 0:\n",
    "                break\n",
    "        else:           \n",
    "            primes.append(i)\n",
    "    return primes\n",
    "n = int(input(\"Enter a number to check for prime numbers up to that number: \"))\n",
    "print(prime_numbers(n))"
   ]
  },
  {
   "cell_type": "markdown",
   "id": "33590e33",
   "metadata": {},
   "source": [
    "27. Create a function that accepts a sentence and returns the longest word"
   ]
  },
  {
   "cell_type": "code",
   "execution_count": 20,
   "id": "2ff1ef2a",
   "metadata": {},
   "outputs": [
    {
     "name": "stdout",
     "output_type": "stream",
     "text": [
      "The longest word in the sentence is there!\n"
     ]
    }
   ],
   "source": [
    "def longest_word_in_sentence(sentence):\n",
    "    words = sentence.split()\n",
    "    longest_word = max(words, key=len)\n",
    "    return longest_word\n",
    "sentence = input(\"Enter a sentence\")\n",
    "print(\"The longest word in the sentence is\", longest_word_in_sentence(sentence))"
   ]
  },
  {
   "cell_type": "markdown",
   "id": "7c6fc6be",
   "metadata": {},
   "source": [
    "28. Write a function to compute the power of a number using recursion"
   ]
  },
  {
   "cell_type": "code",
   "execution_count": 26,
   "id": "f66e4610",
   "metadata": {},
   "outputs": [
    {
     "name": "stdout",
     "output_type": "stream",
     "text": [
      "7 to the power 2 is 49\n"
     ]
    }
   ],
   "source": [
    "def pow(n, p):\n",
    "    if p == 0:\n",
    "        return 1\n",
    "    else:\n",
    "        return n * pow(n, p - 1)\n",
    "\n",
    "n = int(input(\"Enter the number: \"))\n",
    "p = int(input(\"Enter the power: \"))\n",
    "print(n, \"to the power\", p, \"is\", pow(n, p))"
   ]
  },
  {
   "cell_type": "markdown",
   "id": "51da745a",
   "metadata": {},
   "source": [
    "29. Create a function that flattens a nested list"
   ]
  },
  {
   "cell_type": "code",
   "execution_count": 27,
   "id": "58ec50c5",
   "metadata": {},
   "outputs": [
    {
     "data": {
      "text/plain": [
       "[1, 2, 3, 4, 5, 6]"
      ]
     },
     "execution_count": 27,
     "metadata": {},
     "output_type": "execute_result"
    }
   ],
   "source": [
    "#Create a function that flattens a nested list\n",
    "def nested_list(getList):\n",
    "    flatten_list = []\n",
    "    for i in getList:\n",
    "        if type(i) == list:\n",
    "            for j in i:\n",
    "                flatten_list.append(j)\n",
    "        else:\n",
    "            flatten_list.append(i)\n",
    "    return flatten_list\n",
    "getList = [1, 2, 3, 4, 5, 6]\n",
    "nested_list(getList)"
   ]
  },
  {
   "cell_type": "markdown",
   "id": "875f73ee",
   "metadata": {},
   "source": [
    "30. Write a function to check if a list is sorted"
   ]
  },
  {
   "cell_type": "code",
   "execution_count": null,
   "id": "11e01f1d",
   "metadata": {},
   "outputs": [
    {
     "name": "stdout",
     "output_type": "stream",
     "text": [
      "True\n"
     ]
    }
   ],
   "source": [
    "def is_sorted_list(mylist):\n",
    "    for i in range(len(mylist)-1):\n",
    "        if mylist[i] > mylist[i+1]:\n",
    "            return False\n",
    "    return True\n",
    "print(is_sorted_list([1,2,3,4,5]))\n"
   ]
  },
  {
   "cell_type": "markdown",
   "id": "223bcf41",
   "metadata": {},
   "source": [
    "31. Create a function to merge two sorted lists into one sorted list"
   ]
  },
  {
   "cell_type": "code",
   "execution_count": 47,
   "id": "dfe9aa11",
   "metadata": {},
   "outputs": [
    {
     "name": "stdout",
     "output_type": "stream",
     "text": [
      "The sorted list is [1, 2, 4, 5, 6, 7, 8, 11, 11, 16]\n"
     ]
    }
   ],
   "source": [
    "def merge_sorted_lists(list1, list2):\n",
    "    newList = list1 + list2\n",
    "    for i in range(len(newList)):\n",
    "        for j in range(len(newList)):\n",
    "            if newList[i] < newList[j]:\n",
    "                newList[i], newList[j] = newList[j], newList[i]\n",
    "    return newList\n",
    "list1 = [1, 4, 5, 8, 11]\n",
    "list2 = [2, 6, 7, 11, 16]\n",
    "print(\"The sorted list is\", merge_sorted_lists(list1, list2))\n"
   ]
  },
  {
   "cell_type": "markdown",
   "id": "c9e559b6",
   "metadata": {},
   "source": [
    "32. Write a function to find the most frequent element in a list"
   ]
  },
  {
   "cell_type": "code",
   "execution_count": 50,
   "id": "18e92648",
   "metadata": {},
   "outputs": [
    {
     "name": "stdout",
     "output_type": "stream",
     "text": [
      "The most frequent item in the list is: 6\n"
     ]
    },
    {
     "data": {
      "text/plain": [
       "{1: 1, 5: 2, 7: 1, 6: 3, 8: 2, 9: 1}"
      ]
     },
     "execution_count": 50,
     "metadata": {},
     "output_type": "execute_result"
    }
   ],
   "source": [
    "def most_frequent(myList):\n",
    "    frequency = {}\n",
    "    for item in myList:\n",
    "        frequency[item] = frequency.get(item, 0) + 1\n",
    "    most_frequent_item = max(frequency, key=frequency.get)\n",
    "    print(\"The most frequent item in the list is:\", most_frequent_item)\n",
    "    return frequency\n",
    "myList = [1, 5, 7, 6, 5, 6, 8, 6, 9, 8]\n",
    "most_frequent(myList)"
   ]
  },
  {
   "cell_type": "markdown",
   "id": "47350999",
   "metadata": {},
   "source": [
    "33. Create a function that returns the median of a list"
   ]
  },
  {
   "cell_type": "code",
   "execution_count": 51,
   "id": "65b554b5",
   "metadata": {},
   "outputs": [
    {
     "data": {
      "text/plain": [
       "3"
      ]
     },
     "execution_count": 51,
     "metadata": {},
     "output_type": "execute_result"
    }
   ],
   "source": [
    "def median_of_list(list):\n",
    "    for i in range(len(list)):\n",
    "        median = list[len(list) // 2]\n",
    "    return median\n",
    "list = [1, 2, 3, 4, 5]\n",
    "median_of_list(list)"
   ]
  },
  {
   "cell_type": "markdown",
   "id": "53aff008",
   "metadata": {},
   "source": [
    "34. Create a function that finds the intersection of two lists"
   ]
  },
  {
   "cell_type": "code",
   "execution_count": 53,
   "id": "ade04c5d",
   "metadata": {},
   "outputs": [
    {
     "data": {
      "text/plain": [
       "[5, 6, 7]"
      ]
     },
     "execution_count": 53,
     "metadata": {},
     "output_type": "execute_result"
    }
   ],
   "source": [
    "def intersection_of_lists(list1, list2):\n",
    "    intersection = []\n",
    "    for i in list1:\n",
    "        for j in list2:\n",
    "            if i == j:\n",
    "                intersection.append(i)\n",
    "    return intersection\n",
    "list1 = [1, 2, 3, 4, 5, 6, 7]\n",
    "list2 = [5, 6, 7, 8, 9, 10, 11]\n",
    "intersection_of_lists(list1, list2)"
   ]
  },
  {
   "cell_type": "markdown",
   "id": "43130fed",
   "metadata": {},
   "source": [
    "35. Write a function that accepts variable number of arguments and returns their product"
   ]
  },
  {
   "cell_type": "code",
   "execution_count": null,
   "id": "0fd66b77",
   "metadata": {},
   "outputs": [
    {
     "name": "stdout",
     "output_type": "stream",
     "text": [
      "120\n"
     ]
    }
   ],
   "source": [
    "def product_all(*args):\n",
    "    product = 1\n",
    "    for i in args:\n",
    "        product *= i\n",
    "    return product\n",
    "list = [1, 2, 3, 4, 5]\n",
    "print(product_all(*list))"
   ]
  },
  {
   "cell_type": "markdown",
   "id": "fcc8b29b",
   "metadata": {},
   "source": [
    "36. Write a function that returns a list of tuples (element, index) from a list"
   ]
  },
  {
   "cell_type": "code",
   "execution_count": 67,
   "id": "f8499417",
   "metadata": {},
   "outputs": [
    {
     "data": {
      "text/plain": [
       "[(1, 0),\n",
       " (2, 1),\n",
       " (3, 2),\n",
       " (4, 3),\n",
       " (5, 4),\n",
       " (6, 5),\n",
       " (7, 6),\n",
       " (8, 7),\n",
       " (9, 8),\n",
       " (10, 9)]"
      ]
     },
     "execution_count": 67,
     "metadata": {},
     "output_type": "execute_result"
    }
   ],
   "source": [
    "def list_of_tuples(*args):\n",
    "    return [(x, i) for i, x in enumerate(args)]\n",
    "list1 = [1, 2, 3, 4, 5, 6, 7, 8, 9, 10]\n",
    "list_of_tuples(*list1)"
   ]
  },
  {
   "cell_type": "markdown",
   "id": "0fd5d8e6",
   "metadata": {},
   "source": [
    "37. Create a function that accepts a string and returns a dictionary of word counts"
   ]
  },
  {
   "cell_type": "code",
   "execution_count": 72,
   "id": "35811963",
   "metadata": {},
   "outputs": [
    {
     "name": "stdout",
     "output_type": "stream",
     "text": [
      "{'Hello': 1, 'World': 1}\n"
     ]
    }
   ],
   "source": [
    "def word_counts(getString):\n",
    "    word_count = {}\n",
    "    for word in getString.split():\n",
    "        if word in word_count:\n",
    "            word_count[word] += 1\n",
    "        else:\n",
    "            word_count[word] = 1\n",
    "    return word_count\n",
    "getString = input(\"Enter a string\")\n",
    "print(word_counts(getString))"
   ]
  },
  {
   "cell_type": "markdown",
   "id": "f3e349c5",
   "metadata": {},
   "source": [
    "38. Write a function that checks if a sentence is a pangram"
   ]
  },
  {
   "cell_type": "code",
   "execution_count": 75,
   "id": "d713c52e",
   "metadata": {},
   "outputs": [
    {
     "data": {
      "text/plain": [
       "False"
      ]
     },
     "execution_count": 75,
     "metadata": {},
     "output_type": "execute_result"
    }
   ],
   "source": [
    "def check_pangram(sentence):\n",
    "    return len(set(sentence.lower()) & set('abcdefghijklmnopqrstuvwxyz')) == 26\n",
    "sentence = input(\"Enter a sentence\")\n",
    "check_pangram(sentence)"
   ]
  },
  {
   "cell_type": "markdown",
   "id": "fac5151d",
   "metadata": {},
   "source": [
    "39. Create a function that accepts a list and a value, and returns the index of the value(or -1)"
   ]
  },
  {
   "cell_type": "code",
   "execution_count": null,
   "id": "f7335792",
   "metadata": {},
   "outputs": [
    {
     "ename": "TypeError",
     "evalue": "check_index() missing 1 required keyword-only argument: 'value'",
     "output_type": "error",
     "traceback": [
      "\u001b[31m---------------------------------------------------------------------------\u001b[39m",
      "\u001b[31mTypeError\u001b[39m                                 Traceback (most recent call last)",
      "\u001b[36mCell\u001b[39m\u001b[36m \u001b[39m\u001b[32mIn[80]\u001b[39m\u001b[32m, line 8\u001b[39m\n\u001b[32m      6\u001b[39m             \u001b[38;5;28;01mreturn\u001b[39;00m -\u001b[32m1\u001b[39m\n\u001b[32m      7\u001b[39m \u001b[38;5;28mlist\u001b[39m = [\u001b[32m1\u001b[39m, \u001b[32m2\u001b[39m, \u001b[32m3\u001b[39m, \u001b[32m4\u001b[39m, \u001b[32m5\u001b[39m, \u001b[32m6\u001b[39m, \u001b[32m7\u001b[39m, \u001b[32m8\u001b[39m, \u001b[32m9\u001b[39m, \u001b[32m10\u001b[39m]\n\u001b[32m----> \u001b[39m\u001b[32m8\u001b[39m \u001b[43mcheck_index\u001b[49m\u001b[43m(\u001b[49m\u001b[43m*\u001b[49m\u001b[38;5;28;43mlist\u001b[39;49m\u001b[43m,\u001b[49m\u001b[43m \u001b[49m\u001b[32;43m7\u001b[39;49m\u001b[43m)\u001b[49m\n",
      "\u001b[31mTypeError\u001b[39m: check_index() missing 1 required keyword-only argument: 'value'"
     ]
    }
   ],
   "source": [
    "def check_index(*list, value):\n",
    "    for i in list:\n",
    "        if value == list[i]:\n",
    "           return i\n",
    "        else:\n",
    "            return -1\n",
    "list = [1, 2, 3, 4, 5, 6, 7, 8, 9, 10]\n",
    "check_index(list, 7)"
   ]
  }
 ],
 "metadata": {
  "kernelspec": {
   "display_name": "Python 3",
   "language": "python",
   "name": "python3"
  },
  "language_info": {
   "codemirror_mode": {
    "name": "ipython",
    "version": 3
   },
   "file_extension": ".py",
   "mimetype": "text/x-python",
   "name": "python",
   "nbconvert_exporter": "python",
   "pygments_lexer": "ipython3",
   "version": "3.11.1"
  }
 },
 "nbformat": 4,
 "nbformat_minor": 5
}
