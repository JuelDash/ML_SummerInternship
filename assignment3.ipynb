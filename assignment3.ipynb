{
 "cells": [
  {
   "cell_type": "markdown",
   "id": "8e694b4b",
   "metadata": {},
   "source": [
    "1. Create a simple class \"Person\" with name and age as attributes"
   ]
  },
  {
   "cell_type": "code",
   "execution_count": 12,
   "id": "16efe4ae",
   "metadata": {},
   "outputs": [
    {
     "name": "stdout",
     "output_type": "stream",
     "text": [
      "John\n",
      "20\n",
      "Person name:  John\n",
      "Person age:  20\n"
     ]
    }
   ],
   "source": [
    "class Person:\n",
    "    def __init__(self, name, age):\n",
    "        self.name = name\n",
    "        self.age = age\n",
    "    def display(self):\n",
    "        print(\"Person name: \", self.name)\n",
    "        print(\"Person age: \", self.age)\n",
    "\n",
    "person = Person(\"John\", 20)\n",
    "print(person.name)\n",
    "print(person.age)\n",
    "person.display()"
   ]
  },
  {
   "cell_type": "markdown",
   "id": "175012d1",
   "metadata": {},
   "source": [
    "2. Add a method to the \"Person\" class that prints a greeting"
   ]
  },
  {
   "cell_type": "code",
   "execution_count": 13,
   "id": "5339edcc",
   "metadata": {},
   "outputs": [
    {
     "name": "stdout",
     "output_type": "stream",
     "text": [
      "Good Morning Alex\n"
     ]
    }
   ],
   "source": [
    "class Person:\n",
    "    def __init__(self, name):\n",
    "        self.name = name\n",
    "    def greet(self):\n",
    "        print(\"Good Morning\", self.name)\n",
    "\n",
    "person = Person(\"Alex\")\n",
    "person.greet()"
   ]
  },
  {
   "cell_type": "markdown",
   "id": "f36ba7d7",
   "metadata": {},
   "source": [
    "3. Create a class with a class variable and instance variable"
   ]
  },
  {
   "cell_type": "code",
   "execution_count": 18,
   "id": "8219f3a7",
   "metadata": {},
   "outputs": [
    {
     "name": "stdout",
     "output_type": "stream",
     "text": [
      "The value of class variable is  5\n",
      "The value of instance variable is  4\n"
     ]
    }
   ],
   "source": [
    "class Number:\n",
    "    a = 5\n",
    "    print(\"The value of class variable is \", a)\n",
    "    def __init__(self, a):\n",
    "        self.a = a\n",
    "    def display(self):\n",
    "        print(\"The value of instance variable is \", self.a)\n",
    "    \n",
    "number = Number(4)\n",
    "number.display()\n"
   ]
  },
  {
   "cell_type": "markdown",
   "id": "625522bc",
   "metadata": {},
   "source": [
    "4. Create a private attribute in a class and access it using a method"
   ]
  },
  {
   "cell_type": "code",
   "execution_count": 19,
   "id": "6611e518",
   "metadata": {},
   "outputs": [
    {
     "data": {
      "text/plain": [
       "5"
      ]
     },
     "execution_count": 19,
     "metadata": {},
     "output_type": "execute_result"
    }
   ],
   "source": [
    "class Number:\n",
    "    def __init__(self, a, b):\n",
    "        self.a = a\n",
    "        self.__b = b\n",
    "    def get_b(self):\n",
    "        return self.__b\n",
    "\n",
    "number = Number(10, 5)\n",
    "number.get_b()\n"
   ]
  },
  {
   "cell_type": "markdown",
   "id": "06d4cd4a",
   "metadata": {},
   "source": [
    "5. Create a class with a method that returns the square of a number"
   ]
  },
  {
   "cell_type": "code",
   "execution_count": 21,
   "id": "b85955b9",
   "metadata": {},
   "outputs": [
    {
     "name": "stdout",
     "output_type": "stream",
     "text": [
      "The square of  5 is 25\n"
     ]
    }
   ],
   "source": [
    "class Number:\n",
    "    def __init__(self, num):\n",
    "        self.num = num\n",
    "    def square(self):\n",
    "        return self.num ** 2\n",
    "\n",
    "number = Number(5)\n",
    "print(\"The square of \", number.num, \"is\", number.square())"
   ]
  },
  {
   "cell_type": "markdown",
   "id": "36708aa9",
   "metadata": {},
   "source": [
    "6. Create two objects of a class and demonstrate that they are independent\n"
   ]
  },
  {
   "cell_type": "code",
   "execution_count": 22,
   "id": "826b62c9",
   "metadata": {},
   "outputs": [
    {
     "name": "stdout",
     "output_type": "stream",
     "text": [
      "Vehicle name:  Car\n",
      "Vehicle speed:  120\n",
      "Vehicle name:  Bike\n",
      "Vehicle speed:  80\n"
     ]
    }
   ],
   "source": [
    "class Vehicle:\n",
    "    def __init__(self, name, speed):\n",
    "        self.name = name\n",
    "        self.speed = speed\n",
    "    def display(self):\n",
    "        print(\"Vehicle name: \", self.name)\n",
    "        print(\"Vehicle speed: \", self.speed)\n",
    "vehicle1 = Vehicle(\"Car\", 120)\n",
    "vehicle2 = Vehicle(\"Bike\", 80)\n",
    "vehicle1.display()\n",
    "vehicle2.display()"
   ]
  },
  {
   "cell_type": "markdown",
   "id": "910c9bd4",
   "metadata": {},
   "source": [
    "7. Create a class and use a method to set its attributes"
   ]
  },
  {
   "cell_type": "code",
   "execution_count": 25,
   "id": "9d4b00c1",
   "metadata": {},
   "outputs": [
    {
     "name": "stdout",
     "output_type": "stream",
     "text": [
      "Endeavour\n"
     ]
    }
   ],
   "source": [
    "class Vehicle:\n",
    "    def __init__(self, brand, model):\n",
    "        self.brand = brand\n",
    "        self.model = model\n",
    "    def set_model(self, new_value):\n",
    "        self.model = new_value\n",
    "\n",
    "mycar = Vehicle(\"Ford\", \"Mustang\")\n",
    "mycar.set_model(\"Endeavour\")\n",
    "print(mycar.model)"
   ]
  },
  {
   "cell_type": "markdown",
   "id": "fcc940d3",
   "metadata": {},
   "source": [
    "8. Demonstrate use of `isinstance` with a class"
   ]
  },
  {
   "cell_type": "code",
   "execution_count": 26,
   "id": "276a4376",
   "metadata": {},
   "outputs": [
    {
     "name": "stdout",
     "output_type": "stream",
     "text": [
      "True\n"
     ]
    }
   ],
   "source": [
    "class Person:\n",
    "    def __init__(self, name, age):\n",
    "        self.name = name\n",
    "        self.age = age\n",
    "    def __str__(self):\n",
    "        return f\"Person: {self.name}, {self.age}\"\n",
    "p1 = Person(\"John\", 36)\n",
    "print(isinstance(p1, Person))"
   ]
  },
  {
   "cell_type": "markdown",
   "id": "1ee63a43",
   "metadata": {},
   "source": [
    "9. Demonstrate single inheritance in Python\n"
   ]
  },
  {
   "cell_type": "code",
   "execution_count": 27,
   "id": "8d199a46",
   "metadata": {},
   "outputs": [
    {
     "name": "stdout",
     "output_type": "stream",
     "text": [
      "Name: Toyota\n",
      "Color: Red\n",
      "Price: 200000\n",
      "Model: Camry\n"
     ]
    }
   ],
   "source": [
    "class Vehicle:\n",
    "    def __init__(self, name, color, price):\n",
    "        self.name = name\n",
    "        self.color = color\n",
    "        self.price = price\n",
    "    def display(self):\n",
    "        print('Name:', self.name)\n",
    "        print('Color:', self.color)\n",
    "        print('Price:', self.price)\n",
    "class Car(Vehicle):\n",
    "    def __init__(self, name, color, price, model):\n",
    "        super().__init__(name, color, price)\n",
    "        self.model = model\n",
    "    def display(self):\n",
    "        super().display()\n",
    "        print('Model:', self.model)\n",
    "c = Car('Toyota', 'Red', 200000, 'Camry')\n",
    "c.display()"
   ]
  },
  {
   "cell_type": "markdown",
   "id": "282de2f3",
   "metadata": {},
   "source": [
    "10. Create a base class and derive two child classes with different methods(multi-level inheritance)"
   ]
  },
  {
   "cell_type": "code",
   "execution_count": 28,
   "id": "aed126e7",
   "metadata": {},
   "outputs": [
    {
     "name": "stdout",
     "output_type": "stream",
     "text": [
      "Method 1 from Base class\n",
      "Method 2 from Base class\n",
      "Method 3 from Child1 class\n",
      "Method 4 from Child2 class\n"
     ]
    }
   ],
   "source": [
    "class Base:\n",
    "    def method1(self):\n",
    "        print(\"Method 1 from Base class\")\n",
    "    def method2(self):\n",
    "        print(\"Method 2 from Base class\")\n",
    "class Child1(Base):\n",
    "    def method3(self):\n",
    "        print(\"Method 3 from Child1 class\")\n",
    "class Child2(Child1):\n",
    "    def method4(self):\n",
    "        print(\"Method 4 from Child2 class\")\n",
    "obj = Child2()\n",
    "obj.method1()\n",
    "obj.method2()\n",
    "obj.method3()\n",
    "obj.method4()"
   ]
  },
  {
   "cell_type": "markdown",
   "id": "693750d6",
   "metadata": {},
   "source": [
    "11. Demonstrate method overriding in inheritance"
   ]
  },
  {
   "cell_type": "code",
   "execution_count": 1,
   "id": "474f14fc",
   "metadata": {},
   "outputs": [
    {
     "name": "stdout",
     "output_type": "stream",
     "text": [
      "Vehicle Name: Generic Vehicle\n",
      "Vehicle Model: Model X\n",
      "Bike Name: Yamaha\n",
      "Bike Model: FZ\n",
      "This is the overridden show() method in Bike class.\n"
     ]
    }
   ],
   "source": [
    "class Vehicle:\n",
    "    def __init__(self, name, model):\n",
    "        self.name = name\n",
    "        self.model = model\n",
    "    def show(self):\n",
    "        print(\"Vehicle Name:\", self.name)\n",
    "        print(\"Vehicle Model:\", self.model)\n",
    "class Bike(Vehicle):\n",
    "    def show(self):\n",
    "        print(\"Bike Name:\", self.name)\n",
    "        print(\"Bike Model:\", self.model)\n",
    "        print(\"This is the overridden show() method in Bike class.\")\n",
    "\n",
    "v = Vehicle(\"Generic Vehicle\", \"Model X\")\n",
    "v.show()\n",
    "\n",
    "b = Bike(\"Yamaha\", \"FZ\")\n",
    "b.show()"
   ]
  },
  {
   "cell_type": "markdown",
   "id": "70149419",
   "metadata": {},
   "source": [
    "12. Use `super()` to call a parent class method"
   ]
  },
  {
   "cell_type": "code",
   "execution_count": 1,
   "id": "6bab3c56",
   "metadata": {},
   "outputs": [
    {
     "name": "stdout",
     "output_type": "stream",
     "text": [
      "Vehicle brand:  Toyota\n",
      "Vehicle model:  Corolla\n",
      "Vehicle year:  2020\n"
     ]
    }
   ],
   "source": [
    "class Vehicle:\n",
    "    def __init__(self, name, model):\n",
    "        self.name = name\n",
    "        self.model = model\n",
    "    def display(self):\n",
    "        print(\"Vehicle brand: \", self.name)\n",
    "        print(\"Vehicle model: \", self.model)\n",
    "\n",
    "class Car(Vehicle):\n",
    "    def __init__(self, name, model, year):\n",
    "        super().__init__(name, model)\n",
    "        self.year = year\n",
    "    def display(self):\n",
    "        super().display()\n",
    "        print(\"Vehicle year: \", self.year)\n",
    "    \n",
    "car = Car(\"Toyota\", \"Corolla\", 2020)\n",
    "car.display()"
   ]
  },
  {
   "cell_type": "markdown",
   "id": "232165ab",
   "metadata": {},
   "source": [
    "13. Create an abstract base class using `abc` module"
   ]
  },
  {
   "cell_type": "code",
   "execution_count": 2,
   "id": "fecd9c48",
   "metadata": {},
   "outputs": [
    {
     "name": "stdout",
     "output_type": "stream",
     "text": [
      "Abstract method implemented in Class2\n"
     ]
    }
   ],
   "source": [
    "import abc\n",
    "class AbstractClass(abc.ABC):\n",
    "    @abc.abstractmethod\n",
    "    def abstract_method(self):\n",
    "        pass\n",
    "class Class2(AbstractClass):\n",
    "    def abstract_method(self):\n",
    "        print(\"Abstract method implemented in Class2\")\n",
    "obj = Class2()\n",
    "obj.abstract_method()"
   ]
  },
  {
   "cell_type": "markdown",
   "id": "a068188a",
   "metadata": {},
   "source": [
    "14. Demonstrate multiple inheritance in Python"
   ]
  },
  {
   "cell_type": "code",
   "execution_count": 5,
   "id": "ccb17213",
   "metadata": {},
   "outputs": [
    {
     "name": "stdout",
     "output_type": "stream",
     "text": [
      "Cat meows\n",
      "Dog barks\n"
     ]
    }
   ],
   "source": [
    "#Demonstrate multiple inheritance in Python\n",
    "class Dog:\n",
    "    def bark(self):\n",
    "        print(\"Dog barks\")\n",
    "class Cat:\n",
    "    def meow(self):\n",
    "        print(\"Cat meows\")\n",
    "class Animal(Dog, Cat):\n",
    "    def speak(self):\n",
    "        print(\"Cat meows\")\n",
    "        print(\"Dog barks\")\n",
    "animal = Animal()\n",
    "animal.speak()\n"
   ]
  },
  {
   "cell_type": "markdown",
   "id": "a2a68af9",
   "metadata": {},
   "source": [
    "15. Demonstrate encapsulation using getter and setter"
   ]
  },
  {
   "cell_type": "code",
   "execution_count": 6,
   "id": "2f19a764",
   "metadata": {},
   "outputs": [
    {
     "name": "stdout",
     "output_type": "stream",
     "text": [
      "Declan\n",
      "30\n",
      "Dominic\n",
      "21\n"
     ]
    }
   ],
   "source": [
    "class Person:\n",
    "    def __init__(self, name, age):\n",
    "        self.name = name\n",
    "        self.age = age\n",
    "    def get_name(self):\n",
    "        return self.name\n",
    "    def set_name(self, name):\n",
    "        self.name = name\n",
    "    def get_age(self):\n",
    "        return self.age\n",
    "    def set_age(self, age):\n",
    "        self.age = age\n",
    "person = Person(\"Declan\", 30)\n",
    "print(person.get_name())\n",
    "print(person.get_age())\n",
    "person.set_name(\"Dominic\")\n",
    "person.set_age(21)\n",
    "print(person.get_name())\n",
    "print(person.get_age())"
   ]
  },
  {
   "cell_type": "markdown",
   "id": "d364f3a9",
   "metadata": {},
   "source": [
    "16. Write a program to demonstrate polymorphism with a common method "
   ]
  },
  {
   "cell_type": "code",
   "execution_count": 8,
   "id": "e0b77353",
   "metadata": {},
   "outputs": [
    {
     "name": "stdout",
     "output_type": "stream",
     "text": [
      "Vehicle brand  Toyota\n",
      "Vehicle model  Corolla\n",
      "Car brand  BMW\n",
      "Car model  X5\n",
      "Bike brand  Yamaha\n",
      "Bike model  FZ\n"
     ]
    }
   ],
   "source": [
    "class Vehicle:\n",
    "    def __init__(self, brand, model):\n",
    "        self.brand = brand\n",
    "        self.model = model\n",
    "    def display(self):\n",
    "        print(\"Vehicle brand \", self.brand)\n",
    "        print(\"Vehicle model \", self.model)\n",
    "class Car(Vehicle):\n",
    "    def __init__(self, brand, model):\n",
    "        super().__init__(brand, model)\n",
    "    def display(self):\n",
    "        print(\"Car brand \", self.brand)\n",
    "        print(\"Car model \", self.model)\n",
    "v = Vehicle(\"Toyota\", \"Corolla\")\n",
    "v.display()\n",
    "c1 = Car(\"BMW\", \"X5\")\n",
    "c1.display()\n",
    "class Bike(Vehicle):\n",
    "    def __init__(self, brand, model):\n",
    "        super().__init__(brand, model)\n",
    "    def display(self):\n",
    "        print(\"Bike brand \", self.brand)\n",
    "        print(\"Bike model \", self.model)\n",
    "b = Bike(\"Yamaha\", \"FZ\")\n",
    "b.display()"
   ]
  },
  {
   "cell_type": "markdown",
   "id": "c25b38f2",
   "metadata": {},
   "source": [
    "17. Create a class `Employee` with a method to display the number of employees created."
   ]
  },
  {
   "cell_type": "code",
   "execution_count": 11,
   "id": "a8fc1a9c",
   "metadata": {},
   "outputs": [
    {
     "name": "stdout",
     "output_type": "stream",
     "text": [
      "Thhe number of employees are  2\n"
     ]
    }
   ],
   "source": [
    "class Employee:\n",
    "    count = 0\n",
    "    def __init__(self):\n",
    "        Employee.count += 1\n",
    "    def display(self):\n",
    "        print(\"Thhe number of employees are \", Employee.count)\n",
    "e1 = Employee()\n",
    "e2 = Employee()\n",
    "e1.display()"
   ]
  },
  {
   "cell_type": "markdown",
   "id": "13d5478e",
   "metadata": {},
   "source": [
    "18. Demonstrate constructor overloading using default arguments."
   ]
  },
  {
   "cell_type": "code",
   "execution_count": 12,
   "id": "faf4d617",
   "metadata": {},
   "outputs": [
    {
     "name": "stdout",
     "output_type": "stream",
     "text": [
      "Area of rect1: 20\n",
      "Area of rect2: 50\n"
     ]
    }
   ],
   "source": [
    "class Rectangle:\n",
    "    def __init__(self, length=5, width=4):\n",
    "        self.length = length\n",
    "        self.width = width\n",
    "    def area(self):\n",
    "        return self.length * self.width\n",
    "rect1 = Rectangle()\n",
    "rect2 = Rectangle(10, 5)\n",
    "print(\"Area of rect1:\", rect1.area())   \n",
    "print(\"Area of rect2:\", rect2.area())"
   ]
  },
  {
   "cell_type": "markdown",
   "id": "2b531271",
   "metadata": {},
   "source": [
    "19. Implement a bank account system with deposit and withdrawal methods."
   ]
  },
  {
   "cell_type": "code",
   "execution_count": null,
   "id": "490a7c2a",
   "metadata": {},
   "outputs": [
    {
     "name": "stdout",
     "output_type": "stream",
     "text": [
      "Account Number:  123456789\n",
      "Balance:  1000\n",
      "Deposited  500 to account number 123456789\n",
      "New balance is  1500\n",
      "Withdrawn  300 from account number 123456789\n",
      "New balance is  1200\n",
      "Insufficient balance to withdraw  1500\n"
     ]
    }
   ],
   "source": [
    "class bankAccount:\n",
    "    def __init__(self, account_number, balance):\n",
    "        self.account_number = account_number \n",
    "        self.balance = balance\n",
    "    def deposit(self, amount):\n",
    "        self.amount = amount\n",
    "        self.balance += amount\n",
    "        print(\"Deposited \", self.amount, \"to account number\", self.account_number)\n",
    "        print(\"New balance is \", self.balance)\n",
    "    def withdraw(self, amount):\n",
    "        self.amount = amount\n",
    "        if self.amount <= self.balance:\n",
    "            self.balance -= amount\n",
    "            print(\"Withdrawn \", self.amount, \"from account number\", self.account_number)\n",
    "            print(\"New balance is \", self.balance)\n",
    "        else:\n",
    "            print(\"Insufficient balance to withdraw \", self.amount)\n",
    "    def display(self):\n",
    "        print(\"Account Number: \", self.account_number)\n",
    "        print(\"Balance: \", self.balance)\n",
    "account = bankAccount(\"123456789\", 1000)\n",
    "account.display()\n",
    "account.deposit(500)\n",
    "account.withdraw(300)\n",
    "account.withdraw(1500) \n"
   ]
  },
  {
   "cell_type": "markdown",
   "id": "60e80db3",
   "metadata": {},
   "source": [
    "20. Create a class `Rectangle` with method to calculate area and perimeter."
   ]
  },
  {
   "cell_type": "code",
   "execution_count": 14,
   "id": "97fa1301",
   "metadata": {},
   "outputs": [
    {
     "name": "stdout",
     "output_type": "stream",
     "text": [
      "Area of rectangle: 165\n"
     ]
    }
   ],
   "source": [
    "class Rectangle:\n",
    "    def __init__(self, length, width):\n",
    "        self.length = length\n",
    "        self.width = width\n",
    "    def area(self):\n",
    "        return self.length * self.width\n",
    "    def perimeter(self):\n",
    "        return 2 * (self.length + self.width)\n",
    "length = int(input(\"Enter length of rectangle: \"))\n",
    "width = int(input(\"Enter width of rectangle: \"))\n",
    "rect = Rectangle(length, width)\n",
    "print(\"Area of rectangle:\", rect.area())"
   ]
  }
 ],
 "metadata": {
  "kernelspec": {
   "display_name": "Python 3",
   "language": "python",
   "name": "python3"
  },
  "language_info": {
   "codemirror_mode": {
    "name": "ipython",
    "version": 3
   },
   "file_extension": ".py",
   "mimetype": "text/x-python",
   "name": "python",
   "nbconvert_exporter": "python",
   "pygments_lexer": "ipython3",
   "version": "3.11.1"
  }
 },
 "nbformat": 4,
 "nbformat_minor": 5
}
