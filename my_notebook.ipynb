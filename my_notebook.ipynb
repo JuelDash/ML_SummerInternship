{
 "cells": [
  {
   "cell_type": "code",
   "execution_count": 4,
   "id": "a2741d3d",
   "metadata": {},
   "outputs": [
    {
     "name": "stdout",
     "output_type": "stream",
     "text": [
      "Gry's age =  24\n",
      "Roger's age =  24\n",
      "Tom's age =  24\n"
     ]
    }
   ],
   "source": [
    "gary_age = roger_age = tom_age = 24\n",
    "print(\"Gry's age = \", gary_age)\n",
    "print(\"Roger's age = \", roger_age)\n",
    "print(\"Tom's age = \", tom_age) "
   ]
  },
  {
   "cell_type": "code",
   "execution_count": null,
   "id": "be2d6e42",
   "metadata": {},
   "outputs": [
    {
     "name": "stdout",
     "output_type": "stream",
     "text": [
      "Roger's age =  7\n",
      "Roger's income =  1000\n",
      "Roger's experience =  2\n"
     ]
    }
   ],
   "source": [
    "roger_age, roger_income, roger_experience = 7, 1000, 2\n",
    "print(\"Roger's age = \", roger_age)\n",
    "print(\"Roger's income = \", roger_income)\n",
    "print(\"Roger's experience = \", roger_experience)"
   ]
  },
  {
   "cell_type": "code",
   "execution_count": 7,
   "id": "3f75f135",
   "metadata": {},
   "outputs": [
    {
     "name": "stdout",
     "output_type": "stream",
     "text": [
      "Charles\n"
     ]
    },
    {
     "data": {
      "text/plain": [
       "str"
      ]
     },
     "execution_count": 7,
     "metadata": {},
     "output_type": "execute_result"
    }
   ],
   "source": [
    "name = \"Charles\"\n",
    "print(name)\n",
    "type(name)"
   ]
  },
  {
   "cell_type": "code",
   "execution_count": 10,
   "id": "43e21d51",
   "metadata": {},
   "outputs": [
    {
     "name": "stdout",
     "output_type": "stream",
     "text": [
      "True\n",
      "False\n"
     ]
    },
    {
     "data": {
      "text/plain": [
       "bool"
      ]
     },
     "execution_count": 10,
     "metadata": {},
     "output_type": "execute_result"
    }
   ],
   "source": [
    "isStudent = True\n",
    "has_paid_fees = False\n",
    "print(isStudent)\n",
    "print(has_paid_fees)\n",
    "type(isStudent)\n",
    "type(has_paid_fees)"
   ]
  },
  {
   "cell_type": "code",
   "execution_count": 12,
   "id": "655bf82c",
   "metadata": {},
   "outputs": [
    {
     "name": "stdout",
     "output_type": "stream",
     "text": [
      "None\n"
     ]
    },
    {
     "data": {
      "text/plain": [
       "NoneType"
      ]
     },
     "execution_count": 12,
     "metadata": {},
     "output_type": "execute_result"
    }
   ],
   "source": [
    "myVar = None\n",
    "print(myVar)\n",
    "type(myVar)"
   ]
  },
  {
   "cell_type": "code",
   "execution_count": 1,
   "id": "77a75025",
   "metadata": {},
   "outputs": [
    {
     "name": "stdout",
     "output_type": "stream",
     "text": [
      "{'name': 'John', 'age': 20, 'is_student': True, 'courses': ['Math', 'Science', 'History'], 'grades': {'Math': 90, 'Science': 85, 'History': 88}}\n"
     ]
    }
   ],
   "source": [
    "student_data = {\n",
    "    \"name\": \"John\",\n",
    "    \"age\": 20,\n",
    "    \"is_student\": True,\n",
    "    \"courses\": [\"Math\", \"Science\", \"History\"],\n",
    "    \"grades\": {\n",
    "        \"Math\": 90,\n",
    "        \"Science\": 85,\n",
    "        \"History\": 88\n",
    "    }\n",
    "}\n",
    "print(student_data)"
   ]
  },
  {
   "cell_type": "code",
   "execution_count": 2,
   "id": "81c1f62f",
   "metadata": {},
   "outputs": [
    {
     "name": "stdout",
     "output_type": "stream",
     "text": [
      "{10, 20, 30}\n"
     ]
    }
   ],
   "source": [
    "my_set = {10, 20, 20, 30}\n",
    "print(my_set)"
   ]
  },
  {
   "cell_type": "markdown",
   "id": "31bfea3a",
   "metadata": {},
   "source": [
    "Operators"
   ]
  },
  {
   "cell_type": "code",
   "execution_count": 1,
   "id": "757bd74d",
   "metadata": {},
   "outputs": [
    {
     "name": "stdout",
     "output_type": "stream",
     "text": [
      "3\n"
     ]
    }
   ],
   "source": [
    "y = 21\n",
    "print(y//7)"
   ]
  },
  {
   "cell_type": "code",
   "execution_count": 6,
   "id": "b47ba980",
   "metadata": {},
   "outputs": [
    {
     "name": "stdout",
     "output_type": "stream",
     "text": [
      "False\n"
     ]
    }
   ],
   "source": [
    "a = True\n",
    "b = False\n",
    "print(a and b)"
   ]
  },
  {
   "cell_type": "markdown",
   "id": "3e7bec58",
   "metadata": {},
   "source": [
    "Bitwise Operator\n",
    "&: bitwise AND\n",
    "|: bitwise OR"
   ]
  },
  {
   "cell_type": "code",
   "execution_count": null,
   "id": "e8153e7d",
   "metadata": {},
   "outputs": [
    {
     "name": "stdout",
     "output_type": "stream",
     "text": [
      "0\n",
      "7\n"
     ]
    }
   ],
   "source": [
    "x = 2  \n",
    "y = 5 \n",
    "print(x & y)\n",
    "print(x | y)"
   ]
  },
  {
   "cell_type": "markdown",
   "id": "1d37246e",
   "metadata": {},
   "source": [
    "Arithmetic Operators "
   ]
  },
  {
   "cell_type": "code",
   "execution_count": 9,
   "id": "5a7aa9a0",
   "metadata": {},
   "outputs": [
    {
     "name": "stdout",
     "output_type": "stream",
     "text": [
      "11000\n"
     ]
    }
   ],
   "source": [
    "# adding two numbers\n",
    "income = 10000\n",
    "incentives = 1000\n",
    "total_income = income + incentives\n",
    "print(total_income)"
   ]
  },
  {
   "cell_type": "code",
   "execution_count": 12,
   "id": "d4dbff3d",
   "metadata": {},
   "outputs": [
    {
     "data": {
      "text/plain": [
       "22550.5"
      ]
     },
     "execution_count": 12,
     "metadata": {},
     "output_type": "execute_result"
    }
   ],
   "source": [
    "# adding one float one integer values\n",
    "income = 10000 \n",
    "incentives = 12550.50\n",
    "total_income = income + incentives\n",
    "total_income\n"
   ]
  },
  {
   "cell_type": "markdown",
   "id": "306af07a",
   "metadata": {},
   "source": [
    "Relational Operators"
   ]
  },
  {
   "cell_type": "code",
   "execution_count": 11,
   "id": "17d1ba35",
   "metadata": {},
   "outputs": [
    {
     "data": {
      "text/plain": [
       "False"
      ]
     },
     "execution_count": 11,
     "metadata": {},
     "output_type": "execute_result"
    }
   ],
   "source": [
    "ketty_age = 28\n",
    "kenny_age = 25\n",
    "ketty_age == kenny_age "
   ]
  },
  {
   "cell_type": "markdown",
   "id": "31004e18",
   "metadata": {},
   "source": [
    "Logical Operators"
   ]
  },
  {
   "cell_type": "code",
   "execution_count": null,
   "id": "9518bc37",
   "metadata": {},
   "outputs": [
    {
     "data": {
      "text/plain": [
       "True"
      ]
     },
     "execution_count": 17,
     "metadata": {},
     "output_type": "execute_result"
    }
   ],
   "source": [
    "is_student = True\n",
    "in_college = True\n",
    "in_school = False\n",
    "is_student and in_college"
   ]
  },
  {
   "cell_type": "code",
   "execution_count": 18,
   "id": "9bb1709d",
   "metadata": {},
   "outputs": [
    {
     "data": {
      "text/plain": [
       "True"
      ]
     },
     "execution_count": 18,
     "metadata": {},
     "output_type": "execute_result"
    }
   ],
   "source": [
    "is_student or in_school"
   ]
  },
  {
   "cell_type": "code",
   "execution_count": 19,
   "id": "bd23fa32",
   "metadata": {},
   "outputs": [
    {
     "data": {
      "text/plain": [
       "False"
      ]
     },
     "execution_count": 19,
     "metadata": {},
     "output_type": "execute_result"
    }
   ],
   "source": [
    "not(is_student)"
   ]
  },
  {
   "cell_type": "markdown",
   "id": "1fb48aac",
   "metadata": {},
   "source": [
    "Bitwise Operators"
   ]
  },
  {
   "cell_type": "code",
   "execution_count": 20,
   "id": "f6f71b87",
   "metadata": {},
   "outputs": [
    {
     "data": {
      "text/plain": [
       "False"
      ]
     },
     "execution_count": 20,
     "metadata": {},
     "output_type": "execute_result"
    }
   ],
   "source": [
    "number = 10\n",
    "(number % 2 == 0) & (number % 3 == 0)"
   ]
  },
  {
   "cell_type": "code",
   "execution_count": 21,
   "id": "aa65086f",
   "metadata": {},
   "outputs": [
    {
     "data": {
      "text/plain": [
       "True"
      ]
     },
     "execution_count": 21,
     "metadata": {},
     "output_type": "execute_result"
    }
   ],
   "source": [
    "(number % 2 == 0) | (number % 3 == 0)"
   ]
  },
  {
   "cell_type": "markdown",
   "id": "85534c14",
   "metadata": {},
   "source": [
    "Flow Control"
   ]
  },
  {
   "cell_type": "markdown",
   "id": "f37b3d03",
   "metadata": {},
   "source": [
    "The If Statement"
   ]
  },
  {
   "cell_type": "code",
   "execution_count": 22,
   "id": "d7fe2f0e",
   "metadata": {},
   "outputs": [
    {
     "name": "stdout",
     "output_type": "stream",
     "text": [
      "8 is greater than zero\n",
      "This is always printed\n"
     ]
    }
   ],
   "source": [
    "#Check  if a number is greater than zero\n",
    "num = 8\n",
    "if(num > 0):\n",
    "    print(num, \"is greater than zero\")\n",
    "print(\"This is always printed\")"
   ]
  },
  {
   "cell_type": "code",
   "execution_count": 23,
   "id": "ac941d7b",
   "metadata": {},
   "outputs": [
    {
     "name": "stdout",
     "output_type": "stream",
     "text": [
      "This is always printed\n"
     ]
    }
   ],
   "source": [
    "#Check  if a number is greater than zero\n",
    "num = -1\n",
    "if(num > 0):\n",
    "    print(num, \"is greater than zero\")\n",
    "print(\"This is always printed\")\n"
   ]
  },
  {
   "cell_type": "markdown",
   "id": "5c43a1b7",
   "metadata": {},
   "source": [
    "The If-Else Statement"
   ]
  },
  {
   "cell_type": "code",
   "execution_count": 24,
   "id": "a7ddd399",
   "metadata": {},
   "outputs": [
    {
     "name": "stdout",
     "output_type": "stream",
     "text": [
      "-1 is less than or equal to zero\n"
     ]
    }
   ],
   "source": [
    "num = -1\n",
    "if(num > 0):\n",
    "    print(num, \"is greater than zero\")\n",
    "else:\n",
    "    print(num, \"is less than or equal to zero\")"
   ]
  },
  {
   "cell_type": "markdown",
   "id": "962b9dec",
   "metadata": {},
   "source": [
    "The If Elif Else Statement"
   ]
  },
  {
   "cell_type": "code",
   "execution_count": 33,
   "id": "ada19b75",
   "metadata": {},
   "outputs": [
    {
     "name": "stdout",
     "output_type": "stream",
     "text": [
      "Bus fare is 30\n"
     ]
    }
   ],
   "source": [
    "#display bus fares as per age entered by user\n",
    "age = int(input(\"Enter age: \"))\n",
    "if(0 <= age <= 3):\n",
    "    print(\"No fares for age group 0-3\")\n",
    "elif(3 <= age <= 10):\n",
    "    print(\"Bus fare is 20\")\n",
    "elif(10 <= age <= 20):\n",
    "    print(\"Bus fare is 25\")\n",
    "else:\n",
    "    print(\"Bus fare is 30\")"
   ]
  },
  {
   "cell_type": "markdown",
   "id": "b500b8ed",
   "metadata": {},
   "source": [
    "Nested If Else Statement"
   ]
  },
  {
   "cell_type": "code",
   "execution_count": 43,
   "id": "95544ace",
   "metadata": {},
   "outputs": [
    {
     "name": "stdout",
     "output_type": "stream",
     "text": [
      "34 is greater\n"
     ]
    }
   ],
   "source": [
    "#find the largest number among the three numbers using nested if-else\n",
    "num1 = 10\n",
    "num2 = 34\n",
    "num3 = 5\n",
    "if(num1 > num2): \n",
    "    print(num1, \"is greater\")\n",
    "else:\n",
    "    if(num3 > num2):\n",
    "        print(num3, \"is greater\")\n",
    "    else:\n",
    "        print(num2, \"is greater\")\n",
    "\n"
   ]
  },
  {
   "cell_type": "code",
   "execution_count": 47,
   "id": "a082875e",
   "metadata": {},
   "outputs": [
    {
     "name": "stdout",
     "output_type": "stream",
     "text": [
      "The greatest number is 7\n"
     ]
    }
   ],
   "source": [
    "#Nested if-else to find the greatest \n",
    "a = int(input(\"Enter first number: \"))\n",
    "b = int(input(\"Enter second number: \"))\n",
    "c = int(input(\"Enter third number: \"))\n",
    "if a >= b:\n",
    "    if a >= c:\n",
    "        greatest = a\n",
    "    else:\n",
    "        greatest = c\n",
    "else:\n",
    "        if b >= c:\n",
    "            greatest = b\n",
    "        else:\n",
    "             greatest = c\n",
    "        \n",
    "print(\"The greatest number is\", greatest)"
   ]
  },
  {
   "cell_type": "markdown",
   "id": "10668e02",
   "metadata": {},
   "source": [
    "LOOPS"
   ]
  },
  {
   "cell_type": "markdown",
   "id": "fb7c4d00",
   "metadata": {},
   "source": [
    "While Loop"
   ]
  },
  {
   "cell_type": "code",
   "execution_count": 48,
   "id": "59bba3c8",
   "metadata": {},
   "outputs": [
    {
     "name": "stdout",
     "output_type": "stream",
     "text": [
      "Addition is:  55\n"
     ]
    }
   ],
   "source": [
    "num = 10\n",
    "addition = 0\n",
    "i = 1\n",
    "while(i <= num):\n",
    "    addition = addition + i\n",
    "    i = i + 1\n",
    "print(\"Addition is: \", addition)"
   ]
  },
  {
   "cell_type": "markdown",
   "id": "afc7a603",
   "metadata": {},
   "source": [
    "For Loop"
   ]
  },
  {
   "cell_type": "code",
   "execution_count": 49,
   "id": "21505c5e",
   "metadata": {},
   "outputs": [
    {
     "name": "stdout",
     "output_type": "stream",
     "text": [
      "Addition is:  55\n"
     ]
    }
   ],
   "source": [
    "number = range(1, 11)\n",
    "addition = 0\n",
    "for i in number:\n",
    "    addition = addition + i\n",
    "\n",
    "print(\"Addition is: \", addition)"
   ]
  },
  {
   "cell_type": "markdown",
   "id": "85e05eab",
   "metadata": {},
   "source": [
    "Type Casting - \n",
    "Explicit Type Casting,\n",
    "Implicit Type Casting"
   ]
  },
  {
   "cell_type": "markdown",
   "id": "31b3bd28",
   "metadata": {},
   "source": [
    "Breaking Loops & Nested Loops: \n",
    "break - exits the loop with its block of code,\n",
    "continue - skips the loop block of code"
   ]
  },
  {
   "cell_type": "code",
   "execution_count": 3,
   "id": "92bec587",
   "metadata": {},
   "outputs": [
    {
     "name": "stdout",
     "output_type": "stream",
     "text": [
      "k\n",
      "n\n",
      "o\n",
      "w\n",
      "l\n",
      "e\n",
      "d\n",
      "g\n",
      "e\n",
      "The for loop stopped executing\n"
     ]
    }
   ],
   "source": [
    "text = \"knowledgehut\"\n",
    "for letter in text:\n",
    "    if letter == 'h':\n",
    "        break\n",
    "    print(letter)\n",
    "print(\"The for loop stopped executing\")"
   ]
  },
  {
   "cell_type": "code",
   "execution_count": 3,
   "id": "48dd6ed3",
   "metadata": {},
   "outputs": [
    {
     "name": "stdout",
     "output_type": "stream",
     "text": [
      "k\n",
      "n\n",
      "o\n",
      "w\n",
      "l\n",
      "e\n",
      "d\n",
      "g\n",
      "e\n",
      "This block of code has been skipped\n",
      "u\n",
      "t\n"
     ]
    }
   ],
   "source": [
    "text = \"knowledgehut\"\n",
    "for letter in text:\n",
    "    if letter == 'h':\n",
    "        print(\"This block of code has been skipped\")\n",
    "        continue\n",
    "    print(letter)"
   ]
  },
  {
   "cell_type": "code",
   "execution_count": 11,
   "id": "f6863368",
   "metadata": {},
   "outputs": [
    {
     "name": "stdout",
     "output_type": "stream",
     "text": [
      "1 \n",
      "\n",
      "2 2 \n",
      "\n",
      "3 3 3 \n",
      "\n",
      "4 4 4 4 \n",
      "\n",
      "5 5 5 5 5 \n",
      "\n"
     ]
    }
   ],
   "source": [
    "levels = int(input(\"Enter number of levels: \"))\n",
    "for level in range(1, levels + 1):\n",
    "    for num in range(level):\n",
    "        print(level, end=\" \")\n",
    "    print(\"\\n\")"
   ]
  },
  {
   "cell_type": "markdown",
   "id": "80682089",
   "metadata": {},
   "source": [
    "Functions: Built-In Functions, User-defined Functions, Lambda Functions"
   ]
  },
  {
   "cell_type": "code",
   "execution_count": null,
   "id": "3541c504",
   "metadata": {},
   "outputs": [
    {
     "name": "stdout",
     "output_type": "stream",
     "text": [
      "Hii Juel\n"
     ]
    }
   ],
   "source": [
    "#Built-in Functions  \n",
    "#The input() function in Python \n",
    "name = (input(\"Enter your name:\"))\n",
    "#The print() function in Python\n",
    "print(\"Hii\",name)"
   ]
  },
  {
   "cell_type": "code",
   "execution_count": 15,
   "id": "9cbd3c47",
   "metadata": {},
   "outputs": [
    {
     "name": "stdout",
     "output_type": "stream",
     "text": [
      "Hello John\n"
     ]
    }
   ],
   "source": [
    "#User-defined Functions\n",
    "#Syntax - \n",
    "#def function_name(parameters):\n",
    "#     function_body\n",
    "# function_name\n",
    "def great(name):\n",
    "    print(\"Hello\", name)\n",
    "great(\"John\")"
   ]
  },
  {
   "cell_type": "code",
   "execution_count": 16,
   "id": "2117fa1d",
   "metadata": {},
   "outputs": [
    {
     "name": "stdout",
     "output_type": "stream",
     "text": [
      "Square of 5 is:  25\n"
     ]
    }
   ],
   "source": [
    "#lambda function\n",
    "# Syntax - \n",
    "# lambda arguments : expression\n",
    "#Example - \n",
    "square = lambda x : x * x\n",
    "print(\"Square of 5 is: \", square(5))"
   ]
  },
  {
   "cell_type": "code",
   "execution_count": null,
   "id": "7eb5e07b",
   "metadata": {},
   "outputs": [
    {
     "name": "stdout",
     "output_type": "stream",
     "text": [
      "Sum of 7 and 9 is:  16\n"
     ]
    }
   ],
   "source": [
    "#Addition of two numbers using function\n",
    "def myFunction(a, b):\n",
    "    return a + b\n",
    "a = int(input(\"Enter first number: \"))\n",
    "b = int(input(\"Enter second number: \"))\n",
    "print(\"Sum of\", a, \"and\", b, \"is: \", myFunction(a, b))\n"
   ]
  },
  {
   "cell_type": "code",
   "execution_count": 2,
   "id": "714b6c8f",
   "metadata": {},
   "outputs": [
    {
     "name": "stdout",
     "output_type": "stream",
     "text": [
      "The area and circumference of the circle having radius  7 is (153.86, 43.96)\n"
     ]
    }
   ],
   "source": [
    "#Create a function that return both area and circumference of a circle\n",
    "def circle(radius):\n",
    "    area = 3.14 * radius * radius\n",
    "    circumference = 2 * 3.14 * radius\n",
    "    return area, circumference\n",
    "x = int(input(\"Enter the radius of the circle: \"))\n",
    "print(\"The area and circumference of the circle having radius \", x, \"is\", circle(x))"
   ]
  },
  {
   "cell_type": "code",
   "execution_count": 14,
   "id": "b871b42a",
   "metadata": {},
   "outputs": [
    {
     "name": "stdout",
     "output_type": "stream",
     "text": [
      "Hello Juel, Good morning!\n"
     ]
    }
   ],
   "source": [
    "#Default parameter for a function\n",
    "def greet(name, msg = \"Good morning!\"):\n",
    "    print(\"Hello\", name + \",\", msg)\n",
    "name = input(\"Enter your name: \")\n",
    "greet(name)"
   ]
  },
  {
   "cell_type": "code",
   "execution_count": null,
   "id": "bf4984ef",
   "metadata": {},
   "outputs": [
    {
     "name": "stdout",
     "output_type": "stream",
     "text": [
      "(1, 2, 3, 4, 5)\n",
      "15\n"
     ]
    }
   ],
   "source": [
    "#Write a function that takes variable number of arguments\n",
    "#return their sum\n",
    "def sum_all(*args):\n",
    "    print(args)\n",
    "    # return sum(args)\n",
    "    sum = 0\n",
    "    # for i in args:\n",
    "    #     sum = sum + i\n",
    "    # return sum\n",
    "    while args:\n",
    "        sum = sum + args[0]\n",
    "        args = args[1:]\n",
    "    return sum\n",
    "print(sum_all(1, 2, 3, 4, 5))"
   ]
  },
  {
   "cell_type": "code",
   "execution_count": null,
   "id": "1c4ac5fa",
   "metadata": {},
   "outputs": [
    {
     "name": "stdout",
     "output_type": "stream",
     "text": [
      "name = John\n",
      "age = 25\n",
      "city = New York\n"
     ]
    },
    {
     "data": {
      "text/plain": [
       "dict"
      ]
     },
     "execution_count": 16,
     "metadata": {},
     "output_type": "execute_result"
    }
   ],
   "source": [
    "#Create a function that accept any number of keyword arguments and print them in the form of key=value\n",
    "# def print_key_value(**kwargs):\n",
    "#     for key, value in kwargs.items():\n",
    "#         print(f\"{key} = {value}\")\n",
    "#     return type(kwargs)\n",
    "# print_key_value(name=\"John\", age=25, city=\"New York\")\n",
    "\n",
    "def print_key_value(**kwargs):\n",
    "    for key, value in kwargs.items():\n",
    "        print(f\"{key} = {value}\")\n",
    "    return type(kwargs)\n",
    "dict = {\n",
    "    \"name\": \"John\",\n",
    "    \"age\": 25,\n",
    "    \"city\": \"New York\"\n",
    "}\n",
    "print_key_value(**dict)\n",
    "\n"
   ]
  },
  {
   "cell_type": "code",
   "execution_count": null,
   "id": "2f0d6330",
   "metadata": {},
   "outputs": [
    {
     "name": "stdout",
     "output_type": "stream",
     "text": [
      "Factorial of 6 is 720\n"
     ]
    }
   ],
   "source": [
    "#Factorial of a number \n",
    "# n = int(input(\"Enter a number: \"))\n",
    "# num = n\n",
    "# for i in range(1,n):\n",
    "#    n = n * i\n",
    "# print(\"Factorial of\", num, \"is\", n)\n",
    "\n",
    "# def fact(n):\n",
    "#     if n == 0 or n == 1:\n",
    "#         return 1\n",
    "#     else:\n",
    "#         return n * fact(n - 1)\n",
    "# num = int(input(\"Enter a number: \"))\n",
    "# print(\"Factorial of\", num, \"is\", fact(num))"
   ]
  },
  {
   "cell_type": "code",
   "execution_count": null,
   "id": "cc897a76",
   "metadata": {},
   "outputs": [],
   "source": [
    "#In-buit functions in Python\n",
    "#abs() - returns the absolute value of a number\n",
    "#all() - returns True if all elements of the iterable are true\n",
    "#any() - returns True if any element of the iterable is true\n",
    "#ascii() - returns a string containing a printable representation of an object\n",
    "#bin() - returns the binary representation of a number\n",
    "#bool() - returns the boolean value of an object\n",
    "#bytearray() - returns a bytearray object\n",
    "#bytes() - returns a bytes object\n",
    "#callable() - returns True if the object appears callable\n",
    "#chr() - returns a string representing a character\n",
    "#classmethod() - returns a class method for the given function\n",
    "#compile() - compiles the source into a code or AST object\n",
    "#complex() - returns a complex number\n",
    "#print() - prints the given object to the console\n",
    "#delattr() - deletes the named attribute from the given object\n",
    "#dict() - creates a dictionary\n",
    "#dir() - returns a list of the attributes and methods of an object\n",
    "#divmod() - returns a tuple of the quotient and remainder of dividing two numbers\n",
    "#enumerate() - returns an enumerate object\n",
    "#eval() - parses the expression and executes it\n",
    "#exec() - executes the given code\n",
    "#filter() - constructs an iterator from elements of an iterable for which a function returns true\n",
    "#float() - returns a floating point number\n",
    "#input() - reads a line from input\n",
    "#int() - returns an integer object\n",
    "#isinstance() - returns True if the object is an instance of the class\n",
    "#issubclass() - returns True if the class is a subclass of the class\n",
    "#iter() - returns an iterator object\n",
    "#len() - returns the length of an object\n",
    "#list() - creates a list\n",
    "#locals() - returns a dictionary of the current local symbol table\n",
    "#map() - applies a function to all the items in an iterable\n",
    "#max() - returns the largest item in an iterable\n",
    "#memoryview() - returns a memory view object\n",
    "#min() - returns the smallest item in an iterable\n",
    "#next() - retrieves the next item from the iterator\n",
    "#object() - returns a new featureless object\n",
    "#oct() - returns the octal representation of a number\n",
    "#open() - opens a file and returns a file object\n",
    "#ord() - returns an integer representing the Unicode code of a character\n",
    "#pow() - returns the value of x to the power of y\n",
    "#print() - prints the given object to the console\n",
    "#property() - returns a property attribute\n",
    "#range() - returns a sequence of numbers\n",
    "#repr() - returns a string containing a printable representation of an object\n",
    "#reversed() - returns a reversed iterator\n",
    "#round() - rounds a number to a given precision\n",
    "#set() - creates a set\n",
    "#setattr() - sets the named attribute on the given object\n",
    "#slice() - returns a slice object\n",
    "#sorted() - returns a sorted list of the specified iterable object\n",
    "#staticmethod() - returns a static method for the given function\n",
    "#str() - returns a string object\n",
    "#sum() - returns the sum of a start value (default 0) plus an iterable of numbers\n",
    "#super() - returns a proxy object that delegates method calls to a parent or sibling class\n",
    "#tuple() - creates a tuple\n",
    "#type() - returns the type of an object\n",
    "#vars() - returns the __dict__ attribute of an object\n",
    "#zip() - returns an iterator of tuples\n",
    "#map() - applies a function to all the items in an iterable\n",
    "#filter() - constructs an iterator from elements of an iterable for which a function returns true\n",
    "#reduce() - applies a rolling computation to sequential pairs of values in a list\n"
   ]
  },
  {
   "cell_type": "code",
   "execution_count": null,
   "id": "812561b1",
   "metadata": {},
   "outputs": [
    {
     "name": "stdout",
     "output_type": "stream",
     "text": [
      "100\n"
     ]
    }
   ],
   "source": [
    "# username = \"John\"\n",
    "# def function():\n",
    "#     username = \"Sumit\"\n",
    "#     print(username)\n",
    "# function()\n",
    "# print(username)\n",
    "# x = 99\n",
    "# def func(y):\n",
    "#     z = x+y\n",
    "#     return z\n",
    "\n",
    "# result = func(1)\n",
    "# print(result)\n"
   ]
  },
  {
   "cell_type": "markdown",
   "id": "4fc255f9",
   "metadata": {},
   "source": [
    "Class"
   ]
  },
  {
   "cell_type": "code",
   "execution_count": null,
   "id": "d37a13e5",
   "metadata": {},
   "outputs": [
    {
     "name": "stdout",
     "output_type": "stream",
     "text": [
      "honda\n",
      "cbz\n",
      "Bike Brand:  honda\n",
      "Bike Model:  cbz\n",
      "Car Brand:  Toyota\n",
      "Car Model:  fortuner\n"
     ]
    }
   ],
   "source": [
    "# class Bike(object):\n",
    "#     def __init__(self, name, color):\n",
    "#         self.name = name\n",
    "#         self.color = color\n",
    "\n",
    "#     def display(self):\n",
    "#         print(\"Bike Name: \", self.name)\n",
    "#         print(\"Bike Color: \", self.color)\n",
    "    \n",
    "# Bike(\"Yamaha\", \"Red\").display()\n",
    "\n",
    "#Add a method  to the Bike class that display the fullname of the Car(brand and model)\n",
    "class Bike:\n",
    "    def __init__(self, brand, model):\n",
    "        self.brand = brand\n",
    "        self.model = model\n",
    "\n",
    "    def display(self):\n",
    "        print(\"Bike Brand: \", self.brand)\n",
    "        print(\"Bike Model: \", self.model)\n",
    "    def car(brand, model):\n",
    "        print(\"Car Brand: \",brand)\n",
    "        print(\"Car Model: \",model)\n",
    "mybike = Bike(\"honda\", \"cbz\")\n",
    "print(mybike.brand)\n",
    "print(mybike.model)\n",
    "mybike.display()\n",
    "mycar = Bike.car(\"Toyota\", \"fortuner\")\n"
   ]
  },
  {
   "cell_type": "code",
   "execution_count": 33,
   "id": "5f235c81",
   "metadata": {},
   "outputs": [
    {
     "name": "stdout",
     "output_type": "stream",
     "text": [
      "Bike Brand:  Ola\n",
      "Bike Model:  S1 Pro\n",
      "Battery Capacity:  4 kWh\n"
     ]
    }
   ],
   "source": [
    "#Create a ElectricBike class that inherits from the Bike class and has an additional attribute\n",
    "# for battery capacity\n",
    "class ElectricBike(Bike): \n",
    "    def __init__(self, brand, model, battery_capacity):\n",
    "        super().__init__(brand, model)\n",
    "        self.battery_capacity = battery_capacity\n",
    "\n",
    "    def display(self):\n",
    "        super().display()\n",
    "        print(\"Battery Capacity: \", self.battery_capacity)\n",
    "myebike =  ElectricBike(\"Ola\", \"S1 Pro\", \"4 kWh\")\n",
    "myebike.display()"
   ]
  },
  {
   "cell_type": "code",
   "execution_count": 10,
   "id": "e87a9ae3",
   "metadata": {},
   "outputs": [
    {
     "name": "stdout",
     "output_type": "stream",
     "text": [
      "Car Brand:  Toyota\n",
      "Car Model:  Corolla\n"
     ]
    }
   ],
   "source": [
    "class Car:\n",
    "    def __init__(self, brand, model):\n",
    "        self.brand = brand\n",
    "        self.model = model\n",
    "    def display(self):\n",
    "        print(\"Car Brand: \", self.brand)\n",
    "        print(\"Car Model: \", self.model)\n",
    "\n",
    "mycar = Car(\"Toyota\", \"Corolla\")\n",
    "mycar.display()"
   ]
  },
  {
   "cell_type": "markdown",
   "metadata": {},
   "source": [
    "OOPS"
   ]
  },
  {
   "cell_type": "markdown",
   "id": "8895a4ac",
   "metadata": {},
   "source": [
    "Class"
   ]
  },
  {
   "cell_type": "code",
   "execution_count": 3,
   "id": "5dcb3a86",
   "metadata": {},
   "outputs": [
    {
     "name": "stdout",
     "output_type": "stream",
     "text": [
      "Car Brand:  Mercedes-Benz\n",
      "Car Model:  C-Class\n"
     ]
    }
   ],
   "source": [
    "#Create an object car and print its brand\n",
    "class Car:\n",
    "    def __init__(self, brand, model):\n",
    "        self.brand = brand\n",
    "        self.model = model\n",
    "    def display(self):\n",
    "        print(\"Car Brand: \", self.brand)\n",
    "        print(\"Car Model: \", self.model)\n",
    "\n",
    "mycar = Car(\"Mercedes-Benz\", \"C-Class\")\n",
    "mycar.display()"
   ]
  },
  {
   "cell_type": "markdown",
   "id": "a2d7d65b",
   "metadata": {},
   "source": [
    "Getter and Setter"
   ]
  },
  {
   "cell_type": "code",
   "execution_count": null,
   "id": "d6d67d82",
   "metadata": {},
   "outputs": [
    {
     "name": "stdout",
     "output_type": "stream",
     "text": [
      "Mustang\n",
      "Endeavour\n"
     ]
    }
   ],
   "source": [
    "#Getter and Setter functions in Python\n",
    "class Car:\n",
    "    def __init__(self, brand, model):\n",
    "        self.brand = brand\n",
    "        self.__model = model\n",
    "\n",
    "    def get_model(self):\n",
    "        return self.__model\n",
    "\n",
    "    def set_model(self, new_value):\n",
    "        self.__model = new_value\n",
    "\n",
    "mycar = Car(\"Ford\", \"Mustang\")\n",
    "print(mycar.get_model())\n",
    "mycar.set_model(\"Endeavour\")\n",
    "print(mycar.get_model())\n"
   ]
  },
  {
   "cell_type": "markdown",
   "id": "04aee592",
   "metadata": {},
   "source": [
    "Inheritance "
   ]
  },
  {
   "cell_type": "code",
   "execution_count": 3,
   "id": "34eff83e",
   "metadata": {},
   "outputs": [
    {
     "name": "stdout",
     "output_type": "stream",
     "text": [
      "Ford Mustang engine started.\n",
      "Tesla Model 3 electric engine started.\n",
      "Number of objects created: 3\n"
     ]
    }
   ],
   "source": [
    "#Create a class vehicle and create a method to start the engine\n",
    "class Vehicle:\n",
    "    def start_engine(self):\n",
    "        pass\n",
    "\n",
    "class Car(Vehicle):\n",
    "    count = 0\n",
    "    def __init__(self, brand, model, year):\n",
    "        self.brand = brand\n",
    "        self.__model = model\n",
    "        self.year = year\n",
    "        self.is_running = False\n",
    "        Car.count += 1\n",
    "\n",
    "    def get_model(self):\n",
    "        return self.__model\n",
    "    def set_model(self, new_value):\n",
    "        self.__model = new_value\n",
    "    def start_engine(self):\n",
    "        self.is_running = True\n",
    "        print(f\"{self.brand} {self.__model} engine started.\")\n",
    "    @classmethod\n",
    "    def get_count(cls):\n",
    "        return cls.count\n",
    "\n",
    "mycar = Car(\"Tesla\", \"Model S\", 2022)\n",
    "mycar = Car(\"Ford\", \"Mustang\", 2021)\n",
    "mycar.start_engine()\n",
    "\n",
    "class ElectricCar(Car):\n",
    "    def start_engine(self):\n",
    "        print(f\"{self.brand} {self.get_model()} electric engine started.\")\n",
    "my_electric_car = ElectricCar(\"Tesla\", \"Model 3\", 2022)\n",
    "my_electric_car.start_engine()   \n",
    "\n",
    "count = Car.get_count()\n",
    "print(f\"Number of objects created: {count}\")"
   ]
  },
  {
   "cell_type": "markdown",
   "id": "75316023",
   "metadata": {},
   "source": [
    "Decorators"
   ]
  },
  {
   "cell_type": "code",
   "execution_count": 2,
   "id": "b1902e50",
   "metadata": {},
   "outputs": [
    {
     "name": "stdout",
     "output_type": "stream",
     "text": [
      "Before the function runs\n",
      "Hello, world!\n",
      "After the function runs\n"
     ]
    }
   ],
   "source": [
    "#Decorators\n",
    "# def decorator_name(func):\n",
    "#     def wrapper(*args, **kwargs):\n",
    "#         result = func(*args, **kwargs)\n",
    "#         return result\n",
    "#     return wrapper\n",
    "# @decorator_name\n",
    "# def function_to_decorate():\n",
    "#     print(\"This function is decorated.\")\n",
    "\n",
    "def my_decorator(func):\n",
    "    def wrapper():\n",
    "        print(\"Before the function runs\")\n",
    "        func()\n",
    "        print(\"After the function runs\")\n",
    "    return wrapper\n",
    "\n",
    "@my_decorator\n",
    "def say_hello():\n",
    "    print(\"Hello, world!\")\n",
    "\n",
    "say_hello()"
   ]
  },
  {
   "cell_type": "code",
   "execution_count": 11,
   "id": "40787d65",
   "metadata": {},
   "outputs": [
    {
     "name": "stdout",
     "output_type": "stream",
     "text": [
      "Area of rectangle is: 200\n",
      "Area of square is: 25\n",
      "Addition of two numbers is: 30\n"
     ]
    },
    {
     "data": {
      "text/plain": [
       "30"
      ]
     },
     "execution_count": 11,
     "metadata": {},
     "output_type": "execute_result"
    }
   ],
   "source": [
    "def area(function):\n",
    "    def wrapper(*args, **kwargs):\n",
    "        result = function(*args, **kwargs)\n",
    "        print(f\"Area of rectangle is: {result}\")\n",
    "        return result\n",
    "    return wrapper\n",
    "\n",
    "@area\n",
    "def rectangle(length, breadth):\n",
    "    return length * breadth\n",
    "(rectangle(10, 20))\n",
    "def area(function):\n",
    "    def wrapper(*args, **kwargs):\n",
    "        result = function(*args, **kwargs)\n",
    "        print(f\"Area of square is: {result}\")\n",
    "        return result\n",
    "    return wrapper\n",
    "@area\n",
    "def square(side):\n",
    "    return side * side\n",
    "(square(5))\n",
    "\n",
    "def area(function):\n",
    "    def wrapper(*args, **kwargs):\n",
    "        result = function(*args, **kwargs)\n",
    "        print(f\"Addition of two numbers is: {result}\")\n",
    "        return result\n",
    "    return wrapper\n",
    "@area\n",
    "def add(num1, num2):\n",
    "    return num1 + num2\n",
    "(add(10, 20))"
   ]
  },
  {
   "cell_type": "markdown",
   "id": "8f83d872",
   "metadata": {},
   "source": [
    "Numpy"
   ]
  },
  {
   "cell_type": "code",
   "execution_count": null,
   "id": "9c340d71",
   "metadata": {},
   "outputs": [
    {
     "name": "stdout",
     "output_type": "stream",
     "text": [
      "2.2.6\n"
     ]
    }
   ],
   "source": [
    "import numpy as np\n",
    "print(np.__version__)"
   ]
  },
  {
   "cell_type": "code",
   "execution_count": 20,
   "id": "94f2443c",
   "metadata": {},
   "outputs": [
    {
     "name": "stdout",
     "output_type": "stream",
     "text": [
      "[8 9 3 8 8]\n"
     ]
    }
   ],
   "source": [
    "#Creating Arrays\n",
    "import numpy as np\n",
    "\n",
    "#Create a 1D array\n",
    "# arr = np.array([1, 2, 3])\n",
    "# print(arr)\n",
    "\n",
    "#Create a 2D array\n",
    "# arr = np.array([(1, 2, 3), (4, 5, 6)])\n",
    "# print(arr)\n",
    "\n",
    "#1D array of length3;all values set to 0\n",
    "# arr = np.zeros(3)\n",
    "# print(arr)\n",
    "\n",
    "#3*4 array with all values set to 1\n",
    "# arr = np.ones((3, 4))\n",
    "# print(arr)\n",
    "\n",
    "#5*5 array of 0 with 1 on diagonal(identity matrix)\n",
    "# arr = np.eye(5)\n",
    "# print(arr)\n",
    "\n",
    "#LINSPACE\n",
    "# arr = np.linspace(0, 100, 6)\n",
    "# print(arr)\n",
    "\n",
    "#ARANGE\n",
    "# arr = np.arange(0, 10, 3)\n",
    "# print(arr)\n",
    "\n",
    "#2*3 array with all values set to 8\n",
    "# arr = np.full((2, 3), 8)\n",
    "# print(arr)\n",
    "\n",
    "#4*5 array of random floats between 0 and 1\n",
    "# arr = np.random.rand(4, 5)\n",
    "# print(arr)\n",
    "# arr = np.random.rand(6, 7) * 100\n",
    "# print(arr)\n",
    "\n",
    "# 2*3 array with random integers between 0 and 4\n",
    "# arr = np.random.randint(5, size=(2, 3))\n",
    "# print(arr)\n",
    "np.random.seed(3)\n",
    "arr = np.random.randint(0, 10, 5)\n",
    "print(arr)\n",
    "# list = [1, 2, 3, 4, 5]\n",
    "# print(list * 2)\n",
    "# arr = np.array(list) * 2\n",
    "# print(arr)\n"
   ]
  },
  {
   "cell_type": "code",
   "execution_count": null,
   "id": "5252b146",
   "metadata": {},
   "outputs": [
    {
     "name": "stdout",
     "output_type": "stream",
     "text": [
      "[[ 8 10 12]\n",
      " [11 13 15]]\n"
     ]
    }
   ],
   "source": [
    "#Inspecting Properties\n",
    "import numpy as np\n",
    "\n",
    "#Convert arr elements to type dtype\n",
    "# arr = np.array([1, 2, 3])\n",
    "# dtype = np.float64\n",
    "# arr.astype(dtype)\n",
    "\n",
    "# Convert arr to a Python list\n",
    "# arr.tolist()\n",
    "\n",
    "#View documentation for np.eye\n",
    "# np.info(np.eye)\n",
    "\n",
    "#Returns number of elements in arr\n",
    "# arr.size\n",
    "\n",
    "#Returns dimensions of arr(rows, columns)\n",
    "# arr.shape\n",
    "\n",
    "#Returns type of elements in arr\n",
    "# arr.dtype\n",
    "\n",
    "\n",
    "# arr = np.array([[1, 2, 3], [4, 5, 6]], dtype=np.float64)\n",
    "# arr.shape\n",
    "# arr.size\n",
    "# arr.dtype\n",
    "# arr.itemsize \n",
    "# arr.ndim\n",
    "\n",
    "#Type Conversion\n",
    "# arr = np.array([1.5, 2.5, 3, 4.5], dtype=np.int64)\n",
    "# arr.dtype\n",
    "# arr = np.array([1, 2, 3, 4])\n",
    "# arr.astype(float)\n",
    "\n",
    "#Matrix addition\n",
    "# arr1 = np.array([[1, 2, 3],\n",
    "#                  [4, 5, 6]])\n",
    "# arr2 = np.array([[7, 8, 9]])\n",
    "# arr3 = arr1 + arr2\n",
    "# print(arr3)\n"
   ]
  },
  {
   "cell_type": "code",
   "execution_count": null,
   "id": "d28951f4",
   "metadata": {},
   "outputs": [
    {
     "name": "stdout",
     "output_type": "stream",
     "text": [
      "[[1 2 3 4 5 6]\n",
      " [0 0 0 0 0 0]\n",
      " [0 0 0 0 0 0]\n",
      " [0 0 0 0 0 0]\n",
      " [0 0 0 0 0 0]]\n"
     ]
    }
   ],
   "source": [
    "#Copying, Sorting, & Reshaping\n",
    "\n",
    "# Copies arr to new memory\n",
    "# np.copy(arr)\n",
    "\n",
    "#Create view of arr elements with type dtype\n",
    "# arr.view(float)\n",
    "\n",
    "#Sorts arr\n",
    "# arr = np.array([3, 1, 2])\n",
    "# arr.sort()\n",
    "# print(arr)\n",
    "\n",
    "#Sorts specific axis of arr\n",
    "# arr = np.array([[3, 1, 2], [6, 5, 4]])\n",
    "# arr.sort(axis=0)\n",
    "# print(arr)\n",
    "\n",
    "#Flattens 2D array two_d_arr to 1d\n",
    "# two_d_arr = np.array([[1, 2, 3], [4, 5, 6]])\n",
    "# two_d_arr.flatten()\n",
    "\n",
    "#Transposes arr(rows become columns and vice versa)\n",
    "# arr = np.array([[3, 1, 2], [4, 5, 6]])\n",
    "# arr.T\n",
    "\n",
    "#Reshapes arr to 3 rows, 2 columns without changing data\n",
    "# arr = np.array([1, 2, 3, 4, 5, 6])\n",
    "# arr.reshape(3, 2)\n",
    "\n",
    "#Changes arr shape to 3 rows, 2 columns and fills with 2\n",
    "# arr.resize(5, 6)\n",
    "# print(arr)"
   ]
  },
  {
   "cell_type": "code",
   "execution_count": null,
   "id": "74fe4ecc",
   "metadata": {},
   "outputs": [
    {
     "data": {
      "text/plain": [
       "array([[1, 3],\n",
       "       [4, 6]])"
      ]
     },
     "execution_count": 53,
     "metadata": {},
     "output_type": "execute_result"
    }
   ],
   "source": [
    "# Adding & Removing Elements\n",
    "# arr = np.array([[1, 2, 3], [4, 5, 6]])\n",
    "# np.append(arr, [7, 8, 9])\n",
    "# np.insert(arr, 2, [7, 8])\n",
    "# np.delete(arr, 1, axis=0)\n",
    "# np.delete(arr, 1, axis=1)"
   ]
  },
  {
   "cell_type": "code",
   "execution_count": null,
   "id": "ced8604b",
   "metadata": {},
   "outputs": [
    {
     "data": {
      "text/plain": [
       "[array([[1],\n",
       "        [6]]),\n",
       " array([[2],\n",
       "        [7]]),\n",
       " array([[3],\n",
       "        [8]]),\n",
       " array([[4],\n",
       "        [9]]),\n",
       " array([[ 5],\n",
       "        [10]])]"
      ]
     },
     "execution_count": 66,
     "metadata": {},
     "output_type": "execute_result"
    }
   ],
   "source": [
    "# Combining & Splitting  \n",
    "# arr1 = np.array([[1, 2, 3], [4, 5, 6]])\n",
    "# arr2 = np.array([[7, 8, 9], [10, 11, 12]])\n",
    "# np.concatenate((arr1, arr2), axis=0)\n",
    "# arr = np.array([5, 7, 9])\n",
    "# np.split(arr, 3)\n",
    "# arr = np.array([[1, 2, 3, 4, 5], [6, 7, 8, 9, 10]])\n",
    "# np.hsplit(arr, 5)"
   ]
  },
  {
   "cell_type": "code",
   "execution_count": null,
   "id": "c2a1699e",
   "metadata": {},
   "outputs": [
    {
     "data": {
      "text/plain": [
       "['a', 'b', 'c']"
      ]
     },
     "execution_count": 62,
     "metadata": {},
     "output_type": "execute_result"
    }
   ],
   "source": [
    "# Indexing & Slicing\n",
    "# arr = np.array([1, 2, 3, 4, 5, 6])\n",
    "# arr[5]\n",
    "\n",
    "# arr = np.array([[1, 2, 3], [4, 5, 6]])\n",
    "# arr[2, 5]\n",
    "# arr[1] = [4]\n",
    "# print(arr)\n",
    "# arr[1, 1] = 10\n",
    "# print(arr)\n"
   ]
  },
  {
   "cell_type": "markdown",
   "id": "538983cc",
   "metadata": {},
   "source": [
    "Pandas"
   ]
  },
  {
   "cell_type": "code",
   "execution_count": null,
   "id": "de004e52",
   "metadata": {},
   "outputs": [
    {
     "name": "stdout",
     "output_type": "stream",
     "text": [
      "\n",
      "Sorted Sales Data (NaNs last):\n",
      " 2    300.0\n",
      "3    175.0\n",
      "4      NaN\n",
      "7    250.0\n",
      "8      NaN\n",
      "9    220.0\n",
      "dtype: float64\n"
     ]
    }
   ],
   "source": [
    "# import pandas as pd\n",
    "# print(pd.__version__)\n",
    "\n",
    "# s1 = pd.Series([1, 2, 3, 4, 5])\n",
    "# s1\n",
    "# import numpy as np\n",
    "# arr = np.array((1, 2, 3, 4, 5))\n",
    "# s2 = pd.Series(arr)\n",
    "# s2\n",
    "\n",
    "# age_series_index = pd.Series(\n",
    "#     np.array([20, 37, 45, 25, 76, 55]), \n",
    "#     index = np.arange(0, 12, 2)\n",
    "# )\n",
    "# age_series_index\n",
    "\n",
    "# std_mark_series = pd.Series(\n",
    "#     np.array([90, 80, 70, 60, 50]), \n",
    "#     index = ['A', 'B', 'C', 'D', 'E']\n",
    "# )\n",
    "# std_mark_series\n",
    "\n",
    "# expense_dict = {'rent':2500, 'grocery':3000, \n",
    "#                 'travelling':2000, 'insurance':5000}\n",
    "# expense_series = pd.Series(expense_dict)\n",
    "# expense_series\n",
    "\n",
    "# classes_dict = {\n",
    "#     \"A\": [\"Maths\", \"Science\", \"English\"],\n",
    "#     \"B\": [\"Maths\", \"Physics\"],\n",
    "#     \"C\": \"Chemistry\"\n",
    "# }\n",
    "# classes_series = pd.Series(classes_dict)\n",
    "# # classes_series.index\n",
    "# classes_series.values\n",
    "\n",
    "# std_data = np.array(['Ram', 'Sita', 'Laxmi', \n",
    "#                      'Krishna', 'Madhab', 'Arjun'])\n",
    "# std_data_series = pd.Series(std_data)\n",
    "# print(std_data_series[:5])\n",
    "# print(std_data_series[-5:])\n",
    "\n",
    "# classes_dict = {\n",
    "#     \"A\": [\"Maths\", \"Science\", \"English\"],\n",
    "#     \"B\": [\"Maths\", \"Physics\"],\n",
    "#     \"C\": \"Chemistry\"\n",
    "# }\n",
    "# classes_series = pd.Series(classes_dict)\n",
    "# print(classes_series)\n",
    "# print(\"\\n\", classes_series[['A', 'B']])\n",
    "\n",
    "# student_series = pd.Series(\n",
    "#     np.array([457, 456, 540, 348, 502, 480]),\n",
    "#     index = ['Ram', 'Sita', 'Laxmi', 'Krishna', 'Madhab', 'Arjun']\n",
    "# )\n",
    "# student_series[student_series > 350]\n",
    "\n",
    "# new_series1 = pd.Series([1, 2, 4, 5])\n",
    "# new_series2 = pd.Series([10, 20, 30, 40])\n",
    "\n",
    "# new_series1 + new_series2\n",
    "# new_series1 - new_series2 \n",
    "# new_series1 * new_series2\n",
    "# new_series1 / new_series2\n",
    "# new_series1 % new_series2\n",
    "\n",
    "# sales_series = pd.Series(np.array([200, 590, 367, 678, 455]))\n",
    "# sales_series*2\n",
    "\n",
    "# student_scores = pd.Series(\n",
    "#     [88, 92, 75, 91, 85],\n",
    "#     index=['Alice', 'Bob', 'Charlie', 'David', 'Eva']\n",
    "# )\n",
    "# student_ranks = student_scores.rank(ascending=False)\n",
    "# print(\"\\nStudent Ranks:\\n\", student_ranks)\n",
    "\n",
    "# sales_data = pd.Series(\n",
    "#     [250, np.nan, 175, 300, np.nan, 220],\n",
    "#     index=['Jan', 'Feb', 'Mar', 'Apr', 'May', 'Jun']\n",
    "# )\n",
    "# sorted_sales = sales_data.sort_values(na_position='last')\n",
    "# print(\"\\nSorted Sales Data (NaNs last):\\n\", sorted_sales)\n",
    "\n",
    "# sorted_sales = sales_data.sort_values(ascending=False, na_position='first')\n",
    "# print(\"\\nSorted Sales Data (NaNs last):\\n\", sorted_sales) \n",
    "\n",
    "# sales_data = pd.Series(\n",
    "#     [250, np.nan, 175, 300, np.nan, 220],\n",
    "#     index=[7,4,3,2,8,9]\n",
    "# )\n",
    "# sorted_sales = sales_data.sort_index(ascending=True)\n",
    "# print(\"\\nSorted Sales Data (NaNs last):\\n\", sorted_sales) \n"
   ]
  },
  {
   "cell_type": "code",
   "execution_count": null,
   "id": "9a912991",
   "metadata": {},
   "outputs": [
    {
     "data": {
      "text/html": [
       "<div>\n",
       "<style scoped>\n",
       "    .dataframe tbody tr th:only-of-type {\n",
       "        vertical-align: middle;\n",
       "    }\n",
       "\n",
       "    .dataframe tbody tr th {\n",
       "        vertical-align: top;\n",
       "    }\n",
       "\n",
       "    .dataframe thead th {\n",
       "        text-align: right;\n",
       "    }\n",
       "</style>\n",
       "<table border=\"1\" class=\"dataframe\">\n",
       "  <thead>\n",
       "    <tr style=\"text-align: right;\">\n",
       "      <th></th>\n",
       "      <th>Name</th>\n",
       "      <th>Age</th>\n",
       "      <th>City</th>\n",
       "      <th>Pincode</th>\n",
       "    </tr>\n",
       "  </thead>\n",
       "  <tbody>\n",
       "    <tr>\n",
       "      <th>0</th>\n",
       "      <td>Tony</td>\n",
       "      <td>25</td>\n",
       "      <td>New York</td>\n",
       "      <td>826761</td>\n",
       "    </tr>\n",
       "    <tr>\n",
       "      <th>1</th>\n",
       "      <td>Thor</td>\n",
       "      <td>25</td>\n",
       "      <td>New York</td>\n",
       "      <td>281771</td>\n",
       "    </tr>\n",
       "    <tr>\n",
       "      <th>2</th>\n",
       "      <td>Gaurav</td>\n",
       "      <td>25</td>\n",
       "      <td>Mumbai</td>\n",
       "      <td>292872</td>\n",
       "    </tr>\n",
       "    <tr>\n",
       "      <th>3</th>\n",
       "      <td>Bhola</td>\n",
       "      <td>25</td>\n",
       "      <td>Delhi</td>\n",
       "      <td>288289</td>\n",
       "    </tr>\n",
       "    <tr>\n",
       "      <th>4</th>\n",
       "      <td>Sai</td>\n",
       "      <td>25</td>\n",
       "      <td>Chennai</td>\n",
       "      <td>288282</td>\n",
       "    </tr>\n",
       "    <tr>\n",
       "      <th>5</th>\n",
       "      <td>Juel</td>\n",
       "      <td>25</td>\n",
       "      <td>Hyderabad</td>\n",
       "      <td>282888</td>\n",
       "    </tr>\n",
       "    <tr>\n",
       "      <th>6</th>\n",
       "      <td>Santosh</td>\n",
       "      <td>25</td>\n",
       "      <td>Kolkata</td>\n",
       "      <td>228288</td>\n",
       "    </tr>\n",
       "    <tr>\n",
       "      <th>7</th>\n",
       "      <td>Raj</td>\n",
       "      <td>25</td>\n",
       "      <td>Bhabaneswar</td>\n",
       "      <td>227722</td>\n",
       "    </tr>\n",
       "  </tbody>\n",
       "</table>\n",
       "</div>"
      ],
      "text/plain": [
       "      Name  Age         City  Pincode\n",
       "0     Tony   25     New York   826761\n",
       "1     Thor   25     New York   281771\n",
       "2   Gaurav   25       Mumbai   292872\n",
       "3    Bhola   25        Delhi   288289\n",
       "4      Sai   25      Chennai   288282\n",
       "5     Juel   25    Hyderabad   282888\n",
       "6  Santosh   25      Kolkata   228288\n",
       "7      Raj   25  Bhabaneswar   227722"
      ]
     },
     "execution_count": 27,
     "metadata": {},
     "output_type": "execute_result"
    }
   ],
   "source": [
    "# import pandas as pd\n",
    "# import numpy as np\n",
    "\n",
    "# # sales_data = pd.Series(\n",
    "# #     [250, np.nan, 175, 300, np.nan, 220],\n",
    "# #     index=[7, 4, 3, 2, 8, 9]\n",
    "# # )\n",
    "# # sales_data.isnull()\n",
    "# # sales_data.notnull()\n",
    "\n",
    "# # week1_sales=np.linspace(start=0, stop=300, num=5)\n",
    "# # week2_sales=np.linspace(start=0, stop=400, num=5)\n",
    "\n",
    "# # week1_sales_series = pd.Series(data=week1_sales)\n",
    "# # week2_sales_series = pd.Series(data=week2_sales)\n",
    "# # print(\"Week 1 Sales Series:\\n\", week1_sales_series)\n",
    "# # print(\"Week 2 Sales Series:\\n\", week2_sales_series)\n",
    "\n",
    "# # pd.concat([week1_sales_series, week2_sales_series])\n",
    "# # week1_sales_series.append(week2_sales_series)\n",
    "\n",
    "# #DataFrames\n",
    "\n",
    "# # machine_learning=['Python', 'NumPy', 'Pandas', 'Matplotlib', 'ML Algorithm', 'Statistics']\n",
    "# # df=pd.DataFrame(machine_learning, columns=['Machine Learning'])\n",
    "# # df\n",
    "\n",
    "# #create a dataframe from a list of list\n",
    "# # courses_list=[['ML foundation', 8000], ['IOT', 5000], ['Web development', 6500], ['O level', 4500]]\n",
    "# # df = pd.DataFrame(courses_list, columns=['Couse', 'Fee'])\n",
    "# # df\n",
    "\n",
    "# #create dataframe from a dictionary\n",
    "# # data = {\n",
    "# #     'Name': ['Alice', 'Bob', 'Charlie'],\n",
    "# #     'Age': [24, 27, 22],\n",
    "# #     'City': ['New York', 'Los Angeles', 'Chicago']\n",
    "# # }\n",
    "# # df = pd.DataFrame(data)\n",
    "# # df\n",
    "\n",
    "# #create dataframe with index from a dictionary\n",
    "# # data = {\n",
    "# #     'Name': ['Alice', 'Bob', 'Charlie'],\n",
    "# #     'Age': [24, 27, 22],\n",
    "# #     'City': ['New York', 'Los Angeles', 'Chicago']\n",
    "# # }\n",
    "# # df = pd.DataFrame(data, index=['A1', 'A2', 'A3'])\n",
    "# # df\n",
    "\n",
    "# #create a dataframe from a list of dictionaries\n",
    "\n",
    "# #list of dictionaries with sales data\n",
    "# # sales_data = [\n",
    "# #     {'Data': '2025-06-01', 'Product': 'Laptop', 'Units_Sold': 5, 'Revenue': 50000},\n",
    "# #     {'Data': '2025-06-01', 'Product': 'Mouse', 'Units_Sold': 25, 'Revenue': 2500},\n",
    "# #     {'Data': '2025-06-02', 'Product': 'Keyboard', 'Units_Sold': 15, 'Revenue': 7500},\n",
    "# #     {'Data': '2025-06-02', 'Product': 'Monitor', 'Units_Sold': 7, 'Revenue': 21000}\n",
    "# # ]\n",
    "# # df=pd.DataFrame(sales_data)\n",
    "# # df\n",
    "\n",
    "# df = pd.read_excel('mywork.xlsx', sheet_name='Sheet1')\n",
    "# df\n",
    "\n",
    "# # df = pd.read_csv('mywork.csv')\n",
    "# # df\n",
    "\n",
    "# # df = pd.read_json('iris.json')\n",
    "# # df.head() \n",
    "# # df.tail()\n",
    "# # df.describe()\n",
    "\n",
    "# df = pd.read_csv('Obesity Classification.csv')\n",
    "# df \n",
    "\n",
    "# df.index=[\"First\", 'Second', \"Third\"]\n",
    "# df.columns=[\"Name\", \"Age\", \"City\", \"Pincode\"]"
   ]
  },
  {
   "cell_type": "code",
   "execution_count": null,
   "id": "4cab3838",
   "metadata": {},
   "outputs": [
    {
     "data": {
      "text/html": [
       "<div>\n",
       "<style scoped>\n",
       "    .dataframe tbody tr th:only-of-type {\n",
       "        vertical-align: middle;\n",
       "    }\n",
       "\n",
       "    .dataframe tbody tr th {\n",
       "        vertical-align: top;\n",
       "    }\n",
       "\n",
       "    .dataframe thead th {\n",
       "        text-align: right;\n",
       "    }\n",
       "</style>\n",
       "<table border=\"1\" class=\"dataframe\">\n",
       "  <thead>\n",
       "    <tr style=\"text-align: right;\">\n",
       "      <th></th>\n",
       "      <th>Age</th>\n",
       "      <th>City</th>\n",
       "      <th>Pincode</th>\n",
       "    </tr>\n",
       "    <tr>\n",
       "      <th>Name</th>\n",
       "      <th></th>\n",
       "      <th></th>\n",
       "      <th></th>\n",
       "    </tr>\n",
       "  </thead>\n",
       "  <tbody>\n",
       "    <tr>\n",
       "      <th>Tony</th>\n",
       "      <td>25</td>\n",
       "      <td>New York</td>\n",
       "      <td>826761</td>\n",
       "    </tr>\n",
       "    <tr>\n",
       "      <th>Thor</th>\n",
       "      <td>25</td>\n",
       "      <td>New York</td>\n",
       "      <td>281771</td>\n",
       "    </tr>\n",
       "    <tr>\n",
       "      <th>Gaurav</th>\n",
       "      <td>25</td>\n",
       "      <td>Mumbai</td>\n",
       "      <td>292872</td>\n",
       "    </tr>\n",
       "    <tr>\n",
       "      <th>Bhola</th>\n",
       "      <td>25</td>\n",
       "      <td>Delhi</td>\n",
       "      <td>288289</td>\n",
       "    </tr>\n",
       "    <tr>\n",
       "      <th>Sai</th>\n",
       "      <td>25</td>\n",
       "      <td>Chennai</td>\n",
       "      <td>288282</td>\n",
       "    </tr>\n",
       "    <tr>\n",
       "      <th>Juel</th>\n",
       "      <td>25</td>\n",
       "      <td>Hyderabad</td>\n",
       "      <td>282888</td>\n",
       "    </tr>\n",
       "    <tr>\n",
       "      <th>Santosh</th>\n",
       "      <td>25</td>\n",
       "      <td>Kolkata</td>\n",
       "      <td>228288</td>\n",
       "    </tr>\n",
       "    <tr>\n",
       "      <th>Raj</th>\n",
       "      <td>25</td>\n",
       "      <td>Bhabaneswar</td>\n",
       "      <td>227722</td>\n",
       "    </tr>\n",
       "  </tbody>\n",
       "</table>\n",
       "</div>"
      ],
      "text/plain": [
       "         Age         City  Pincode\n",
       "Name                              \n",
       "Tony      25     New York   826761\n",
       "Thor      25     New York   281771\n",
       "Gaurav    25       Mumbai   292872\n",
       "Bhola     25        Delhi   288289\n",
       "Sai       25      Chennai   288282\n",
       "Juel      25    Hyderabad   282888\n",
       "Santosh   25      Kolkata   228288\n",
       "Raj       25  Bhabaneswar   227722"
      ]
     },
     "execution_count": 6,
     "metadata": {},
     "output_type": "execute_result"
    }
   ],
   "source": [
    "import pandas as pd\n",
    "import numpy as np\n",
    "df = pd.read_excel('mywork.xlsx', sheet_name='Sheet1')\n",
    "# df.columns=[\"Name\", \"Age\", \"City\", \"Pincode\"]\n",
    "# print(df)\n",
    "# df['Age'].mean()\n",
    "# df.index \n",
    "df.set_index(\"Name\",inplace=True)\n",
    "df\n"
   ]
  }
 ],
 "metadata": {
  "kernelspec": {
   "display_name": "Python 3",
   "language": "python",
   "name": "python3"
  },
  "language_info": {
   "codemirror_mode": {
    "name": "ipython",
    "version": 3
   },
   "file_extension": ".py",
   "mimetype": "text/x-python",
   "name": "python",
   "nbconvert_exporter": "python",
   "pygments_lexer": "ipython3",
   "version": "3.11.1"
  }
 },
 "nbformat": 4,
 "nbformat_minor": 5
}
